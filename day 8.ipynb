{
 "cells": [
  {
   "cell_type": "markdown",
   "metadata": {},
   "source": [
    "### Nested functions:\n",
    "#### functions inside a function"
   ]
  },
  {
   "cell_type": "code",
   "execution_count": 1,
   "metadata": {},
   "outputs": [
    {
     "data": {
      "text/plain": [
       "64"
      ]
     },
     "execution_count": 1,
     "metadata": {},
     "output_type": "execute_result"
    }
   ],
   "source": [
    "def square(x):\n",
    "    return x*x\n",
    "def cube(x):\n",
    "    return square(x)*x\n",
    "cube(4)"
   ]
  },
  {
   "cell_type": "code",
   "execution_count": 40,
   "metadata": {},
   "outputs": [
    {
     "name": "stdout",
     "output_type": "stream",
     "text": [
      "2 4 6 8 10 12 14 16 18 20 "
     ]
    }
   ],
   "source": [
    "# write a function to check the given number is even or odd\n",
    "#create another function to print all the even numbers in the \n",
    "#given range using previous function\n",
    "\n",
    "def even_or_odd(x):\n",
    "    if x%2==0:\n",
    "        return x\n",
    "        #x=x+1\n",
    "    \n",
    "def even_number_in_the_given_range(x,y):\n",
    "    list1 = []\n",
    "    while (x<=y):\n",
    "        if even_or_odd(x)!= None:\n",
    "            list1.append(even_or_odd(x))\n",
    "        x=x+1\n",
    "    for i in list1:\n",
    "        print(i,end=\" \")\n",
    "\n",
    "even_number_in_the_given_range(1,20)\n",
    "    "
   ]
  },
  {
   "cell_type": "code",
   "execution_count": 39,
   "metadata": {},
   "outputs": [
    {
     "name": "stdout",
     "output_type": "stream",
     "text": [
      "2 4 6 8 10 12 14 16 18 20 "
     ]
    }
   ],
   "source": [
    "# same ad above using for loop:\n",
    "\n",
    "def even_or_odd(x):\n",
    "    if x%2== 0:\n",
    "        return True\n",
    "def even_numbers_in_the_given_range(start,stop):\n",
    "    for i in range(start,stop+1):\n",
    "        if even_or_odd(i):\n",
    "            print(i,end=\" \")\n",
    "even_numbers_in_the_given_range(2,20)"
   ]
  },
  {
   "cell_type": "markdown",
   "metadata": {},
   "source": [
    "## Recursive Function:\n",
    "### calling a function inside the same function"
   ]
  },
  {
   "cell_type": "code",
   "execution_count": 10,
   "metadata": {},
   "outputs": [
    {
     "data": {
      "text/plain": [
       "120"
      ]
     },
     "execution_count": 10,
     "metadata": {},
     "output_type": "execute_result"
    }
   ],
   "source": [
    "# finding factorial of a given  number using recursive function:\n",
    "\n",
    "def fact(x):\n",
    "    f=1\n",
    "    if x==1:\n",
    "        return 1\n",
    "    f=x*fact(x-1)\n",
    "    return f\n",
    "fact(5)"
   ]
  },
  {
   "cell_type": "code",
   "execution_count": 4,
   "metadata": {},
   "outputs": [
    {
     "name": "stdout",
     "output_type": "stream",
     "text": [
      "enter the count8\n",
      "0\n",
      "1\n",
      "1\n",
      "2\n",
      "3\n",
      "5\n",
      "8\n",
      "13\n",
      "21\n",
      "34\n"
     ]
    }
   ],
   "source": [
    "#print first 10 fibonacci series number using without and with using recursive functions\n",
    "# 0,1,1,2,3,5,8,13,21,34\n",
    "\n",
    "#fibonacci series without recursive function\n",
    "x=int(input(\"enter the count\"))\n",
    "a=0\n",
    "b=1\n",
    "count=0\n",
    "#x=int(input(\"enter the count\"))\n",
    "while count<=8:\n",
    "    print(a)\n",
    "    count=0\n",
    "    print(b) \n",
    "    count=count+1\n",
    "    for i in range(x):\n",
    "        #count=count+1\n",
    "        c=a+b\n",
    "        print(c)\n",
    "        count=count+1\n",
    "        a=b\n",
    "        b=c\n"
   ]
  },
  {
   "cell_type": "code",
   "execution_count": 49,
   "metadata": {},
   "outputs": [
    {
     "name": "stdout",
     "output_type": "stream",
     "text": [
      "0\n",
      "1\n",
      "1\n",
      "2\n",
      "3\n",
      "5\n",
      "8\n",
      "13\n",
      "21\n",
      "34\n"
     ]
    }
   ],
   "source": [
    "#fibonacci series using recursive function:\n",
    "def fib(x):\n",
    "    if(x<=1):\n",
    "        return x\n",
    "    else:\n",
    "        a=(fib(x-1)+fib(x-2))\n",
    "        return a\n",
    "for i in range(10):\n",
    "    print(fib(i))"
   ]
  },
  {
   "cell_type": "code",
   "execution_count": 9,
   "metadata": {},
   "outputs": [
    {
     "name": "stdout",
     "output_type": "stream",
     "text": [
      "enter a number1234\n",
      "four three two one "
     ]
    }
   ],
   "source": [
    "#15:The program must accept an integer N as the input. Need to print the output in the following manner.\n",
    "#Example Input/Output 1:\n",
    "#145  \n",
    "#Output:\n",
    "#Five Four One\n",
    "#Example Input/Output 2:\n",
    "#123  \n",
    "#Output:\n",
    "#Three two one\n",
    "\n",
    "\n",
    "dict1 = {1:\"one\",2:\"two\",3:\"three\",4:\"four\",5:\"five\",6:\"six\",7:\"seven\",8:\"eight\",9:\"nine\",10:\"ten\"}\n",
    "x=int(input(\"enter a number\"))\n",
    "rem=0\n",
    "while (x > 0):\n",
    "    rem = (x % 10)\n",
    "    print(dict1[rem],end=\" \")\n",
    "    x = x//10\n"
   ]
  },
  {
   "cell_type": "code",
   "execution_count": null,
   "metadata": {},
   "outputs": [],
   "source": []
  }
 ],
 "metadata": {
  "kernelspec": {
   "display_name": "Python 3",
   "language": "python",
   "name": "python3"
  },
  "language_info": {
   "codemirror_mode": {
    "name": "ipython",
    "version": 3
   },
   "file_extension": ".py",
   "mimetype": "text/x-python",
   "name": "python",
   "nbconvert_exporter": "python",
   "pygments_lexer": "ipython3",
   "version": "3.7.3"
  }
 },
 "nbformat": 4,
 "nbformat_minor": 2
}
