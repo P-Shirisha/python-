{
 "cells": [
  {
   "cell_type": "code",
   "execution_count": 3,
   "metadata": {},
   "outputs": [
    {
     "name": "stdout",
     "output_type": "stream",
     "text": [
      "enter a number123\n",
      "no\n"
     ]
    }
   ],
   "source": [
    "# 13: The program must accept an integer N as the input. Need to print the output in the following manner.\n",
    "# Example Input/Output 1:\n",
    "   # Input1:145\n",
    "   # Output:YES\n",
    "   # Input2:123\n",
    "   # Output:NO\n",
    "# Explanation : \n",
    "# Individual digit factorial sum is the same as the original number then need to print YES otherwise need to print NO\n",
    "# 145 - 1! + 4! + 5! - 1 + 24 + 120 -- 145 -- YES\n",
    "# 123 - 1! + 2! + 3! - 1 + 2 + 6 - 9 -- NO\n",
    "\n",
    "def fact(x):\n",
    "    f=1\n",
    "    if x==1:\n",
    "        return 1\n",
    "    f=x*fact(x-1)\n",
    "    return f\n",
    "def sum_of_factors(n):\n",
    "    sum=0\n",
    "    while n > 0:\n",
    "        rem=n %10\n",
    "        sum =sum+fact(rem)\n",
    "        n = n//10\n",
    "    return sum\n",
    "n=int(input(\"enter a number\"))\n",
    "if n==sum_of_factors(n):\n",
    "    print(\"yes\")\n",
    "else:\n",
    "    print(\"no\")"
   ]
  },
  {
   "cell_type": "code",
   "execution_count": null,
   "metadata": {},
   "outputs": [
    {
     "name": "stdout",
     "output_type": "stream",
     "text": [
      "enter a number12343\n"
     ]
    }
   ],
   "source": [
    "# 14:The program must accept an integer N the input. The program must print the desired pattern \n",
    "#as shown in the Example Input/Output section.\n",
    "# Input Format:\n",
    "# The first line contains the value of N.\n",
    "# Output Format:\n",
    "# The list of lines containing the desired pattern as shown in the Example Input/Output sections.\n",
    "# Example Input/Output 1:\n",
    "# Input:41325\n",
    "# Output:\n",
    "# |****\n",
    "# |*\n",
    "# |***\n",
    "# |**\n",
    "# |*****\n",
    "# Example Input/Output 2:\n",
    "# Input:60710\n",
    "# Output:\n",
    "# |******\n",
    "# |\n",
    "# |*******\n",
    "# |*\n",
    "# |\n",
    "\n",
    "n=int(input(\"enter a number\"))\n",
    "list=[]\n",
    "while n>0:\n",
    "    rem=n%10\n",
    "    list.append(rem)\n",
    "list\n",
    "    \n",
    "    \n",
    "\n",
    "\n",
    "\n",
    "\n",
    "    "
   ]
  },
  {
   "cell_type": "code",
   "execution_count": null,
   "metadata": {},
   "outputs": [],
   "source": []
  }
 ],
 "metadata": {
  "kernelspec": {
   "display_name": "Python 3",
   "language": "python",
   "name": "python3"
  },
  "language_info": {
   "codemirror_mode": {
    "name": "ipython",
    "version": 3
   },
   "file_extension": ".py",
   "mimetype": "text/x-python",
   "name": "python",
   "nbconvert_exporter": "python",
   "pygments_lexer": "ipython3",
   "version": "3.7.3"
  }
 },
 "nbformat": 4,
 "nbformat_minor": 2
}
