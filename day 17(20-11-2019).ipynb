{
 "cells": [
  {
   "cell_type": "markdown",
   "metadata": {},
   "source": [
    "## * Functions :"
   ]
  },
  {
   "cell_type": "markdown",
   "metadata": {},
   "source": [
    "### --> A function is a block of code which only runs when it is called.\n",
    "\n",
    "### --> It is to put some commonly or repeatedly done task together and make a function, so that instead of writing the same code again and again for different inputs\n",
    "\n",
    "### --> You can pass data, known as parameters, into a function.\n",
    "\n",
    "### --> A function can return data as a result."
   ]
  },
  {
   "cell_type": "markdown",
   "metadata": {},
   "source": [
    "## Syntax: \n",
    "     def function_name:\n",
    "     [     set of statements   ]\n",
    "     ---------------------------------\n",
    "     ---------------------------------    \n",
    "     return variable"
   ]
  },
  {
   "cell_type": "markdown",
   "metadata": {},
   "source": [
    "## Creating a Function:"
   ]
  },
  {
   "cell_type": "markdown",
   "metadata": {},
   "source": [
    "### In Python a function is defined using the def keyword"
   ]
  },
  {
   "cell_type": "code",
   "execution_count": 4,
   "metadata": {},
   "outputs": [
    {
     "name": "stdout",
     "output_type": "stream",
     "text": [
      "Hello from a function\n"
     ]
    }
   ],
   "source": [
    "def my_function(): # defining a function\n",
    "  print(\"Hello from a function\") # some set of statements\n",
    "\n",
    "my_function() # calling the function\n"
   ]
  },
  {
   "cell_type": "markdown",
   "metadata": {},
   "source": [
    "## Parameters:\n"
   ]
  },
  {
   "cell_type": "markdown",
   "metadata": {},
   "source": [
    "### Information can be passed to functions as parameter.\n",
    "### Parameters are specified after the function name, inside the paranthesis[( )].\n",
    "### You can add as many parameters as you want, just separate them with a comma(,)."
   ]
  },
  {
   "cell_type": "code",
   "execution_count": 7,
   "metadata": {},
   "outputs": [
    {
     "name": "stdout",
     "output_type": "stream",
     "text": [
      "Email.com\n",
      "gmail.com\n",
      "yahoo.com\n"
     ]
    }
   ],
   "source": [
    "def function(a): #function defining with one parameter\n",
    "  print(a + \".com\")\n",
    "\n",
    "function(\"Email\") l#function calling\n",
    "function(\"gmail\")\n",
    "function(\"yahoo\")"
   ]
  },
  {
   "cell_type": "code",
   "execution_count": 8,
   "metadata": {},
   "outputs": [
    {
     "data": {
      "text/plain": [
       "3"
      ]
     },
     "execution_count": 8,
     "metadata": {},
     "output_type": "execute_result"
    }
   ],
   "source": [
    "def add(a,b): #function defining with two parameters\n",
    "    add=a+b\n",
    "    return add\n",
    "add(1,2)"
   ]
  },
  {
   "cell_type": "code",
   "execution_count": 10,
   "metadata": {},
   "outputs": [
    {
     "name": "stdout",
     "output_type": "stream",
     "text": [
      "enter the value of a: 10\n",
      "enter the value of b: 20\n",
      "enter the value of c: 30\n"
     ]
    },
    {
     "data": {
      "text/plain": [
       "6000"
      ]
     },
     "execution_count": 10,
     "metadata": {},
     "output_type": "execute_result"
    }
   ],
   "source": [
    "# accepting inputs in runtime:\n",
    "def multiply(a,b,c):\n",
    "    multiply=a*b*c\n",
    "    return multiply\n",
    "a=int(input(\"enter the value of a: \"))\n",
    "b=int(input(\"enter the value of b: \"))\n",
    "c=int(input(\"enter the value of c: \"))\n",
    "multiply(a,b,c)"
   ]
  },
  {
   "cell_type": "markdown",
   "metadata": {},
   "source": [
    "## Default Parameter Value:\n"
   ]
  },
  {
   "cell_type": "markdown",
   "metadata": {},
   "source": [
    "### If we call the function without parameter, it uses the default value"
   ]
  },
  {
   "cell_type": "code",
   "execution_count": 11,
   "metadata": {},
   "outputs": [
    {
     "name": "stdout",
     "output_type": "stream",
     "text": [
      "I am from Sweden\n",
      "I am from India\n",
      "I am from Norway\n",
      "I am from Brazil\n"
     ]
    }
   ],
   "source": [
    "# in functions default value will be changed by the original value\n",
    "def default_parameter(country = \"Norway\"):\n",
    "  print(\"I am from \" + country)\n",
    "\n",
    "default_parameter(\"Sweden\")# it takes the original parameter\n",
    "default_parameter(\"India\") # it takes the original parameter\n",
    "default_parameter()        #it takes default parameters\n",
    "default_parameter(\"Brazil\")# it takes the original parameter"
   ]
  },
  {
   "cell_type": "markdown",
   "metadata": {},
   "source": [
    "## Passing a List as a Parameter:"
   ]
  },
  {
   "cell_type": "markdown",
   "metadata": {},
   "source": [
    "### We can send any data types of parameter to a Function (string, number, list, dictionary etc.)\n",
    "### It will be treated as the same data type inside the Function."
   ]
  },
  {
   "cell_type": "code",
   "execution_count": 12,
   "metadata": {},
   "outputs": [
    {
     "name": "stdout",
     "output_type": "stream",
     "text": [
      "apple\n",
      "banana\n",
      "cherry\n"
     ]
    }
   ],
   "source": [
    "# Function with list:\n",
    "def my_function(food):\n",
    "  for x in food:\n",
    "    print(x)\n",
    "\n",
    "fruits = [\"apple\", \"banana\", \"cherry\"]\n",
    "\n",
    "my_function(fruits)"
   ]
  },
  {
   "cell_type": "markdown",
   "metadata": {},
   "source": [
    "## Return Values"
   ]
  },
  {
   "cell_type": "markdown",
   "metadata": {},
   "source": [
    "### To return a value to the function , use the return statement"
   ]
  },
  {
   "cell_type": "code",
   "execution_count": 15,
   "metadata": {},
   "outputs": [
    {
     "name": "stdout",
     "output_type": "stream",
     "text": [
      "15\n",
      "25\n",
      "45\n"
     ]
    }
   ],
   "source": [
    "def return_value(x):   \n",
    "  return 5 * x\n",
    "\n",
    "print(return_value(3))\n",
    "print(return_value(5))\n",
    "print(return_value(9))"
   ]
  },
  {
   "cell_type": "markdown",
   "metadata": {},
   "source": [
    "## Keyword Arguments:"
   ]
  },
  {
   "cell_type": "code",
   "execution_count": 1,
   "metadata": {},
   "outputs": [
    {
     "name": "stdout",
     "output_type": "stream",
     "text": [
      "The youngest child is Linus\n"
     ]
    }
   ],
   "source": [
    "def my_function(child3, child2, child1):\n",
    "  print(\"The youngest child is \" + child3)\n",
    "\n",
    "my_function(child1 = \"Emil\", child2 = \"Tobias\", child3 = \"Linus\")"
   ]
  },
  {
   "cell_type": "markdown",
   "metadata": {},
   "source": [
    "## Arbitrary Arguments:"
   ]
  },
  {
   "cell_type": "markdown",
   "metadata": {},
   "source": [
    "### If we do not know how many arguments we  will be passed into the  function.\n",
    "### add a * before the parameter name in the function definition."
   ]
  },
  {
   "cell_type": "markdown",
   "metadata": {},
   "source": [
    "# ------------------------------------------------------------------------------------------------------"
   ]
  },
  {
   "cell_type": "code",
   "execution_count": 11,
   "metadata": {},
   "outputs": [
    {
     "name": "stdout",
     "output_type": "stream",
     "text": [
      "python easy "
     ]
    }
   ],
   "source": [
    "# 1. Read the input as string and Output will be alternate words in lower case\n",
    "# Example #1:\n",
    "# Input : Learn Python Programming EASy\n",
    "# Output : python easy\n",
    "\n",
    "a=\"Learn Python Programming easy\"\n",
    "list1=[]\n",
    "list1=a.split()\n",
    "for i in range(1,len(list1),2):\n",
    "    print(list1[i].lower(),end=\" \")"
   ]
  },
  {
   "cell_type": "code",
   "execution_count": 14,
   "metadata": {},
   "outputs": [
    {
     "name": "stdout",
     "output_type": "stream",
     "text": [
      "enter a number145\n",
      "five four one "
     ]
    }
   ],
   "source": [
    "# 2. The program must accept an integer N as the input. Need to print the output in the following    manner.\n",
    "#Example Input/Output 1:\n",
    "#        145  \n",
    "#        Output:\n",
    "#        Five Four One\n",
    "#Example Input/Output 2:\n",
    "#         123  \n",
    "#        Output:\n",
    "#       Three two one\n",
    "dict1={1:\"one\",2:\"two\",3:\"three\",4:\"four\",5:\"five\",6:\"six\",7:\"seven\",8:\"eight\",9:\"nine\",0:\"zero\"}\n",
    "a=input(\"enter a number\")\n",
    "for i in a:\n",
    "    rem=int(a)%10\n",
    "    x=dict1.get(rem)\n",
    "    a=int(a)//10\n",
    "    print(x,end=\" \")\n",
    "    \n"
   ]
  },
  {
   "cell_type": "code",
   "execution_count": 3,
   "metadata": {},
   "outputs": [
    {
     "data": {
      "text/plain": [
       "Counter({'a': 2, 'b': 3, 'c': 3, 'd': 1})"
      ]
     },
     "execution_count": 3,
     "metadata": {},
     "output_type": "execute_result"
    }
   ],
   "source": [
    "# 3. Count the number of occurances of elements in a list using traditional method and also with  list comprehension\n",
    "# Input : list= [\"a\", \"b\", \"b\",  \"b\",  \"c\",  \"a\", \"c\",  \"d\", \"c\"]\n",
    "# Output: [['b', 3], ['a', 2],[\"c\",3], [\"d\", 1]]\n",
    "\n",
    "l= [\"a\", \"b\", \"b\",  \"b\",  \"c\",  \"a\", \"c\",  \"d\", \"c\"]\n",
    "from collections import Counter\n",
    "\n",
    "Counter(l)\n",
    "\n"
   ]
  },
  {
   "cell_type": "code",
   "execution_count": 25,
   "metadata": {},
   "outputs": [
    {
     "data": {
      "text/plain": [
       "[['b', 3], ['c', 3], ['a', 2], ['d', 1]]"
      ]
     },
     "execution_count": 25,
     "metadata": {},
     "output_type": "execute_result"
    }
   ],
   "source": [
    "#another method for solvig the up question :\n",
    "\n",
    "[[i,l.count(i)]for i in set(l)]"
   ]
  },
  {
   "cell_type": "code",
   "execution_count": 29,
   "metadata": {},
   "outputs": [
    {
     "name": "stdout",
     "output_type": "stream",
     "text": [
      "[(1, 2, 3),(4, 5, 6),(7, 8, 9)]\n"
     ]
    }
   ],
   "source": [
    "# 4. Split A Python List Into Evenly Sized Chunks\n",
    "#Input: x = [1,2,3,4,5,6,7,8,9]\n",
    "#Output  = [ (1, 2, 3), (4, 5, 6), (7, 8, 9) ]\n",
    "\n",
    "\n",
    "lst = [1,2,3,4,5,6,7,8,9]\n",
    "print(\"[\",end=\"\")\n",
    "print(tuple(lst[0:3]),end=\",\")\n",
    "print(tuple(lst[3:6]),end=\",\")\n",
    "print(tuple(lst[6:10]),end=\"\")\n",
    "print(\"]\")\n",
    "\n"
   ]
  },
  {
   "cell_type": "code",
   "execution_count": 30,
   "metadata": {},
   "outputs": [
    {
     "data": {
      "text/plain": [
       "[(1, 2, 3), (4, 5, 6), (7, 8, 9)]"
      ]
     },
     "execution_count": 30,
     "metadata": {},
     "output_type": "execute_result"
    }
   ],
   "source": [
    "# another method :\n",
    "\n",
    "y=zip(*[iter(lst)]*3)\n",
    "list(y)"
   ]
  },
  {
   "cell_type": "code",
   "execution_count": 27,
   "metadata": {},
   "outputs": [
    {
     "data": {
      "text/plain": [
       "[1, 2, 3, 4, 5, 6]"
      ]
     },
     "execution_count": 27,
     "metadata": {},
     "output_type": "execute_result"
    }
   ],
   "source": [
    "# 5. Create Flat Lists Out Of Lists\n",
    "# Input : list =  [ [1,2], [3,4], [5,6] ]\n",
    "# Output:  [1, 2, 3, 4, 5, 6]\n",
    "\n",
    "list2 =  [ [1,2], [3,4], [5,6] ]\n",
    "sum(list2,[])"
   ]
  },
  {
   "cell_type": "code",
   "execution_count": 28,
   "metadata": {},
   "outputs": [
    {
     "data": {
      "text/plain": [
       "[1, 2, 3, 4, 5, 6]"
      ]
     },
     "execution_count": 28,
     "metadata": {},
     "output_type": "execute_result"
    }
   ],
   "source": [
    "#another method to solve the up question: \n",
    "\n",
    "list2=[ [1,2], [3,4], [5,6] ]\n",
    "l2=[]\n",
    "for i in list2:\n",
    "    for j in i:\n",
    "        l2.append(j)\n",
    "l2"
   ]
  },
  {
   "cell_type": "code",
   "execution_count": 28,
   "metadata": {},
   "outputs": [
    {
     "data": {
      "text/plain": [
       "[5, 7, 9]"
      ]
     },
     "execution_count": 28,
     "metadata": {},
     "output_type": "execute_result"
    }
   ],
   "source": [
    "# 6. Sum Lists Element-Wise  using map function\n",
    "# Input: list1=[1, 2, 3]\n",
    "#       list2=[4, 5, 6]\n",
    "# Output:   [5,7,9]\n",
    "\n",
    "list1=[1, 2, 3]\n",
    "list2=[4, 5, 6]\n",
    "from operator import add\n",
    "list(map(add,list1,list2))"
   ]
  },
  {
   "cell_type": "code",
   "execution_count": 17,
   "metadata": {},
   "outputs": [
    {
     "data": {
      "text/plain": [
       "['t', 'i', 'a', 'l', 'o', 'w']"
      ]
     },
     "execution_count": 17,
     "metadata": {},
     "output_type": "execute_result"
    }
   ],
   "source": [
    "# 7. Print the first character from each word in the list using list comprehension\n",
    "# Input : [\"this\", \"is\", \"a\", \"list\", \"of\", \"words\"]\n",
    "# Output: ['t', 'i', 'a', 'l', 'o', 'w']\n",
    "\n",
    "a=[\"this\", \"is\", \"a\", \"list\", \"of\", \"words\"]\n",
    "list1=[i[0] for i in a ]\n",
    "list1"
   ]
  },
  {
   "cell_type": "markdown",
   "metadata": {},
   "source": [
    "# -------------------------------------------------------------------------------------------------------"
   ]
  },
  {
   "cell_type": "code",
   "execution_count": 17,
   "metadata": {},
   "outputs": [
    {
     "name": "stdout",
     "output_type": "stream",
     "text": [
      "{'a': 3, 'b': 1, 'c': 3}\n"
     ]
    }
   ],
   "source": [
    "MyList = [\"a\", \"b\", \"a\", \"c\", \"c\", \"a\", \"c\"]\n",
    "my_dict = {i:MyList.count(i) for i in MyList}\n",
    "\n",
    "print (my_dict)  "
   ]
  },
  {
   "cell_type": "code",
   "execution_count": 12,
   "metadata": {
    "scrolled": true
   },
   "outputs": [
    {
     "ename": "TypeError",
     "evalue": "'builtin_function_or_method' object is not subscriptable",
     "output_type": "error",
     "traceback": [
      "\u001b[1;31m---------------------------------------------------------------------------\u001b[0m",
      "\u001b[1;31mTypeError\u001b[0m                                 Traceback (most recent call last)",
      "\u001b[1;32m<ipython-input-12-83ba93349e95>\u001b[0m in \u001b[0;36m<module>\u001b[1;34m\u001b[0m\n\u001b[0;32m      2\u001b[0m \u001b[0mduplicateFrequencies\u001b[0m \u001b[1;33m=\u001b[0m\u001b[1;33m[\u001b[0m\u001b[1;33m]\u001b[0m\u001b[1;33m\u001b[0m\u001b[1;33m\u001b[0m\u001b[0m\n\u001b[0;32m      3\u001b[0m \u001b[1;32mfor\u001b[0m \u001b[0mi\u001b[0m \u001b[1;32min\u001b[0m \u001b[0mlist\u001b[0m\u001b[1;33m(\u001b[0m\u001b[0myourList\u001b[0m\u001b[1;33m)\u001b[0m\u001b[1;33m:\u001b[0m\u001b[1;33m\u001b[0m\u001b[1;33m\u001b[0m\u001b[0m\n\u001b[1;32m----> 4\u001b[1;33m     \u001b[0mduplicateFrequencies\u001b[0m\u001b[1;33m[\u001b[0m\u001b[0mi\u001b[0m\u001b[1;33m]\u001b[0m \u001b[1;33m=\u001b[0m \u001b[0myourList\u001b[0m\u001b[1;33m.\u001b[0m\u001b[0mcount\u001b[0m\u001b[1;33m[\u001b[0m\u001b[0mi\u001b[0m\u001b[1;33m]\u001b[0m\u001b[1;33m\u001b[0m\u001b[1;33m\u001b[0m\u001b[0m\n\u001b[0m\u001b[0;32m      5\u001b[0m \u001b[0mduplicateFrequencies\u001b[0m\u001b[1;33m\u001b[0m\u001b[1;33m\u001b[0m\u001b[0m\n",
      "\u001b[1;31mTypeError\u001b[0m: 'builtin_function_or_method' object is not subscriptable"
     ]
    }
   ],
   "source": [
    "yourList = [\"a\", \"b\", \"a\", \"c\", \"c\", \"a\", \"c\"]\n",
    "duplicateFrequencies =[]\n",
    "for i in list(yourList):\n",
    "    duplicateFrequencies[i] = yourList.count[i]\n",
    "duplicateFrequencies"
   ]
  },
  {
   "cell_type": "markdown",
   "metadata": {},
   "source": [
    "\n",
    "\n",
    "\n",
    "\n"
   ]
  },
  {
   "cell_type": "markdown",
   "metadata": {},
   "source": [
    "[link of website](https://www.w3schools.com/python/python_datatypes.asp)"
   ]
  },
  {
   "cell_type": "markdown",
   "metadata": {},
   "source": [
    "[mywebsite](https://sites.google.com/s/179645PbVpKcWoCGyIpD0aU8odgL94enG/p/1ZbgVVN1cc_m6vrMQW3jQ_ZUG9gg0RbBh/edit)"
   ]
  },
  {
   "cell_type": "markdown",
   "metadata": {},
   "source": [
    "# sdfghjk\n",
    "* sdfghjk **cfgbh**\n",
    "  * fghjkl\n",
    "      *  xdfghjmk\n",
    "       1. dcfgbhk\n",
    "       2. fghjkl\n",
    "       "
   ]
  },
  {
   "cell_type": "markdown",
   "metadata": {},
   "source": [
    "<img src='download.jpg'/>"
   ]
  },
  {
   "cell_type": "code",
   "execution_count": null,
   "metadata": {},
   "outputs": [],
   "source": [
    "l         "
   ]
  }
 ],
 "metadata": {
  "kernelspec": {
   "display_name": "Python 3",
   "language": "python",
   "name": "python3"
  },
  "language_info": {
   "codemirror_mode": {
    "name": "ipython",
    "version": 3
   },
   "file_extension": ".py",
   "mimetype": "text/x-python",
   "name": "python",
   "nbconvert_exporter": "python",
   "pygments_lexer": "ipython3",
   "version": "3.7.3"
  }
 },
 "nbformat": 4,
 "nbformat_minor": 2
}
