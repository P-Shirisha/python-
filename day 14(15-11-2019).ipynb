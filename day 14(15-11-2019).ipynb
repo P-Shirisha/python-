{
 "cells": [
  {
   "cell_type": "code",
   "execution_count": 8,
   "metadata": {},
   "outputs": [
    {
     "name": "stdout",
     "output_type": "stream",
     "text": [
      "enter ur namejhgfdsdtyuhikkjhhDFGHJGFD\n"
     ]
    },
    {
     "data": {
      "text/plain": [
       "'jhgfdsdt'"
      ]
     },
     "execution_count": 8,
     "metadata": {},
     "output_type": "execute_result"
    }
   ],
   "source": [
    "# Function to define to test username having 8 characters\n",
    "# (Upper Case and Lower Case)\n",
    "import re\n",
    "def name(a):\n",
    "    z=re.match(\"([a-z]|[A-Z]){8}\",a)\n",
    "    return z\n",
    "a=input(\"enter ur name\")\n",
    "name(a).group()"
   ]
  },
  {
   "cell_type": "code",
   "execution_count": 22,
   "metadata": {},
   "outputs": [
    {
     "name": "stdout",
     "output_type": "stream",
     "text": [
      "enter ur roll number1521A646886\n"
     ]
    },
    {
     "data": {
      "text/plain": [
       "'1521A6468'"
      ]
     },
     "execution_count": 22,
     "metadata": {},
     "output_type": "execute_result"
    }
   ],
   "source": [
    "# Regular Expression to Validate the RollNumber\n",
    "# ○ Example : 1521A0501\n",
    "# ○ Example : 1521A0109\n",
    "# ○ Example : 1521A0499\n",
    "def roll_number(a):\n",
    "    z=re.match(\"[1][5][2][1][A][0-9]{4}\",a)\n",
    "    return z\n",
    "a=input(\"enter ur roll number\")\n",
    "roll_number(a).group()"
   ]
  },
  {
   "cell_type": "code",
   "execution_count": 2,
   "metadata": {},
   "outputs": [
    {
     "name": "stdout",
     "output_type": "stream",
     "text": [
      "enter a  number12346\n"
     ]
    },
    {
     "data": {
      "text/plain": [
       "'12'"
      ]
     },
     "execution_count": 2,
     "metadata": {},
     "output_type": "execute_result"
    }
   ],
   "source": [
    "# Function to test two digit number matching.\n",
    "import re\n",
    "def digit(a):\n",
    "    #a=input(\"enter a  number\")\n",
    "    z=re.match(\"^[0-9]{2}\",a)\n",
    "    return z\n",
    "a=input(\"enter a  number\")\n",
    "digit(a).group()"
   ]
  },
  {
   "cell_type": "code",
   "execution_count": 3,
   "metadata": {},
   "outputs": [
    {
     "name": "stdout",
     "output_type": "stream",
     "text": [
      "enter ur password   asdSDd123@\n",
      "password created asdSDd123@\n"
     ]
    }
   ],
   "source": [
    "# Regular Expression to validate the password\n",
    "# Parameters : Len min of 6 characters and Max of 15 characters\n",
    "# Accept Lower case, Upper case, Digits spl char (@,#,!)\n",
    "import re\n",
    "a=input(\"enter ur password   \")\n",
    "z=re.match(r'[A-Za-z0-9@#$%^&+=](?=.*[a-z])(?=.*[A-Z])(?=.*[0-9])(?=.*[@#$%^&+=]){8,}',a)\n",
    "if z:\n",
    "    print(\"password created\",a)\n",
    "else:\n",
    "    print(\"invalid password,plz rewrite the password \")"
   ]
  },
  {
   "cell_type": "code",
   "execution_count": null,
   "metadata": {},
   "outputs": [],
   "source": [
    "# creating a e-mail id:\n",
    "def e_mail(a):\n",
    "    import re\n",
    "    z=re.match('([a-zA-z\\d_.]+@[a-z]+.[a-z]{2,})',a)\n",
    "    return z\n",
    "a=input(\"enter ur email id : \")\n",
    "e_mail(a).group()"
   ]
  },
  {
   "cell_type": "code",
   "execution_count": null,
   "metadata": {},
   "outputs": [],
   "source": []
  }
 ],
 "metadata": {
  "kernelspec": {
   "display_name": "Python 3",
   "language": "python",
   "name": "python3"
  },
  "language_info": {
   "codemirror_mode": {
    "name": "ipython",
    "version": 3
   },
   "file_extension": ".py",
   "mimetype": "text/x-python",
   "name": "python",
   "nbconvert_exporter": "python",
   "pygments_lexer": "ipython3",
   "version": "3.7.3"
  }
 },
 "nbformat": 4,
 "nbformat_minor": 2
}
