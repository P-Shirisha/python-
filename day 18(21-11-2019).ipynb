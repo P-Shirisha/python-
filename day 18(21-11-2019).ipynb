{
 "cells": [
  {
   "cell_type": "code",
   "execution_count": 2,
   "metadata": {},
   "outputs": [
    {
     "name": "stdout",
     "output_type": "stream",
     "text": [
      "enter a number9876\n",
      "8\n"
     ]
    }
   ],
   "source": [
    "a=int(input(\"enter a number\"))\n",
    "s=0\n",
    "while a!=0:\n",
    "    rem=a%10\n",
    "    if rem==0 or rem==6 or rem==9:\n",
    "        s=s+2\n",
    "    elif rem==4:\n",
    "        s=s+3\n",
    "    elif rem==8:\n",
    "        s=s+4\n",
    "    a=a//10\n",
    "print(s)    \n",
    "    \n"
   ]
  },
  {
   "cell_type": "code",
   "execution_count": 47,
   "metadata": {},
   "outputs": [
    {
     "name": "stdout",
     "output_type": "stream",
     "text": [
      "enter a number982746\n",
      "<9,2>\n"
     ]
    }
   ],
   "source": [
    "a=int(input(\"enter a number\"))\n",
    "l=[]\n",
    "while a!=0:\n",
    "    rem=a%10\n",
    "    l.append(rem)\n",
    "    a=a//10\n",
    "b=sorted(l)\n",
    "b\n",
    "print(\"<{},{}>\".format(max(b),min(b)))"
   ]
  },
  {
   "cell_type": "code",
   "execution_count": 45,
   "metadata": {},
   "outputs": [
    {
     "name": "stdout",
     "output_type": "stream",
     "text": [
      "enter a number122\n"
     ]
    },
    {
     "data": {
      "text/plain": [
       "17"
      ]
     },
     "execution_count": 45,
     "metadata": {},
     "output_type": "execute_result"
    }
   ],
   "source": [
    "a=int(input(\"enter a number\"))\n",
    "r=0\n",
    "b=0\n",
    "while a!=0:\n",
    "    rem=a%10\n",
    "    r=r+rem**3\n",
    "    \n",
    "    a=a//10\n",
    "r"
   ]
  },
  {
   "cell_type": "code",
   "execution_count": 2,
   "metadata": {},
   "outputs": [
    {
     "name": "stdout",
     "output_type": "stream",
     "text": [
      "enter a stringABCD AABB ABC AAABC\n",
      "!@!@@!@@@! \n",
      "!!@!@! \n",
      "!@!@@! \n",
      "!!!@!@@!"
     ]
    }
   ],
   "source": [
    "a=input(\"enter a string\")\n",
    "l=[]\n",
    "l=list(a)\n",
    "l\n",
    "s=0\n",
    "#l2={\"A\":1,\"B\":2,\"C\":3,\"D\":4,\"E\":5,\"F\":6,\"G\":7,\"H\":8,\"I\":9,\"J\":10,\"K\":11,\"L\":12,\"M\":13,\"N\":14,\"O\":15,\"P\":16,\"Q\":17,\"R\":18,\"S\":19,\"T\":20,\"U\":21,\"V\":22,\"W\":23,\"X\":24,\"Y\":25,\"Z\":26}\n",
    "l2=[\"A\",\"B\",\"C\",\"D\",\"E\",\"F\",\"G\",\"H\",\"I\",\"J\",\"K\",\"L\",\"M\",\"N\",\"O\",\"P\",\"Q\",\"R\",\"S\",\"T\",\"U\",\"V\",\"W\",\"X\",\"Y\",\"Z\"]\n",
    "for i in l:\n",
    "    if i in l2:\n",
    "        #x=l2.get(i)\n",
    "        x=l2.index(i)\n",
    "        s=(x*\"@\")\n",
    "        p=s+\"!\"\n",
    "        print(p,end=\"\")\n",
    "    elif ord(i)==32:\n",
    "            print(\" \")\n"
   ]
  },
  {
   "cell_type": "code",
   "execution_count": null,
   "metadata": {},
   "outputs": [],
   "source": [
    "ABCD AABB ABC AAABC\n",
    "!@@!!!@@@@\n",
    "!@!!@@\n",
    "!@@!!!\n",
    "!@!@@!!!"
   ]
  },
  {
   "cell_type": "code",
   "execution_count": null,
   "metadata": {},
   "outputs": [
    {
     "name": "stdout",
     "output_type": "stream",
     "text": [
      "enter a stringABCD AABB ABC AAABC\n"
     ]
    }
   ],
   "source": [
    "a=input(\"enter a string\")\n",
    "l=[]\n",
    "l=list(a)\n",
    "l\n",
    "s=0\n",
    "l2={\"A\":1,\"B\":2,\"C\":3,\"D\":4,\"E\":5,\"F\":6,\"G\":7,\"H\":8,\"I\":9,\"J\":10,\"K\":11,\"L\":12,\"M\":13,\"N\":14,\"O\":15,\"P\":16,\"Q\":17,\"R\":18,\"S\":19,\"T\":20,\"U\":21,\"V\":22,\"W\":23,\"X\":24,\"Y\":25,\"Z\":26}\n",
    "#l2=[\"A\",\"B\",\"C\",\"D\",\"E\",\"F\",\"G\",\"H\",\"I\",\"J\",\"K\",\"L\",\"M\",\"N\",\"O\",\"P\",\"Q\",\"R\",\"S\",\"T\",\"U\",\"V\",\"W\",\"X\",\"Y\",\"Z\"]\n",
    "while i!=0:\n",
    "    if i in l2:\n",
    "        x=l2.get(i)\n",
    "        #x=l2.index(i)\n",
    "        s=(x*\"@\")\n",
    "        if \"!\" in s:\n",
    "            print(x*\"@\")\n",
    "    #i=i+1\n",
    "            \n",
    "\n",
    "       # print(p,end=\"\")\n",
    "    elif ord(i)==32:\n",
    "            print(\" \")\n",
    "i=i+1\n",
    "\n"
   ]
  },
  {
   "cell_type": "code",
   "execution_count": 10,
   "metadata": {},
   "outputs": [
    {
     "data": {
      "text/plain": [
       "32"
      ]
     },
     "execution_count": 10,
     "metadata": {},
     "output_type": "execute_result"
    }
   ],
   "source": [
    "ord(\" \")"
   ]
  },
  {
   "cell_type": "code",
   "execution_count": null,
   "metadata": {},
   "outputs": [],
   "source": []
  }
 ],
 "metadata": {
  "kernelspec": {
   "display_name": "Python 3",
   "language": "python",
   "name": "python3"
  },
  "language_info": {
   "codemirror_mode": {
    "name": "ipython",
    "version": 3
   },
   "file_extension": ".py",
   "mimetype": "text/x-python",
   "name": "python",
   "nbconvert_exporter": "python",
   "pygments_lexer": "ipython3",
   "version": "3.7.3"
  }
 },
 "nbformat": 4,
 "nbformat_minor": 2
}
