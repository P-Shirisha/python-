{
 "cells": [
  {
   "cell_type": "code",
   "execution_count": 4,
   "metadata": {},
   "outputs": [
    {
     "name": "stdout",
     "output_type": "stream",
     "text": [
      "sunccesfully \n",
      "sunccesfully \n",
      "already exist\n"
     ]
    }
   ],
   "source": [
    "#creating a contact:\n",
    "phone={}\n",
    "def contact(name,number):\n",
    "    if name  not in phone:\n",
    "        phone[name]=number\n",
    "        print(\"sunccesfully \")\n",
    "    else:\n",
    "        print(\"already exist\")\n",
    "    return \n",
    "contact(\"shiri\",\"96862148962\")\n",
    "contact(\"raja\",\"56258963\")\n",
    "contact(\"raja\",\"56258963\")\n",
    "\n"
   ]
  },
  {
   "cell_type": "code",
   "execution_count": 5,
   "metadata": {},
   "outputs": [
    {
     "data": {
      "text/plain": [
       "{'shiri': '96862148962', 'raja': '56258963'}"
      ]
     },
     "execution_count": 5,
     "metadata": {},
     "output_type": "execute_result"
    }
   ],
   "source": [
    "phone"
   ]
  },
  {
   "cell_type": "code",
   "execution_count": 6,
   "metadata": {},
   "outputs": [],
   "source": [
    "\n",
    "phone={}\n",
    "def contact(name,number):\n",
    "    if name  not in phone:\n",
    "        phone[name]=number\n",
    "        print(\"sunccesfully \")\n",
    "    else:\n",
    "        print(\"already exist\")\n",
    "    return\n",
    "\n"
   ]
  },
  {
   "cell_type": "code",
   "execution_count": 7,
   "metadata": {},
   "outputs": [
    {
     "name": "stdout",
     "output_type": "stream",
     "text": [
      "sunccesfully \n"
     ]
    }
   ],
   "source": [
    "contact(\"shiri\",\"786252411\")"
   ]
  },
  {
   "cell_type": "code",
   "execution_count": 8,
   "metadata": {},
   "outputs": [
    {
     "name": "stdout",
     "output_type": "stream",
     "text": [
      "sunccesfully \n"
     ]
    }
   ],
   "source": [
    "contact(\"raja\",\"5646503289\")"
   ]
  },
  {
   "cell_type": "code",
   "execution_count": 9,
   "metadata": {},
   "outputs": [
    {
     "name": "stdout",
     "output_type": "stream",
     "text": [
      "already exist\n"
     ]
    }
   ],
   "source": [
    "contact(\"raja\",\"5646503289\")"
   ]
  },
  {
   "cell_type": "code",
   "execution_count": 10,
   "metadata": {},
   "outputs": [
    {
     "data": {
      "text/plain": [
       "{'shiri': '786252411', 'raja': '5646503289'}"
      ]
     },
     "execution_count": 10,
     "metadata": {},
     "output_type": "execute_result"
    }
   ],
   "source": [
    "phone"
   ]
  },
  {
   "cell_type": "code",
   "execution_count": 11,
   "metadata": {},
   "outputs": [
    {
     "name": "stdout",
     "output_type": "stream",
     "text": [
      "not exist\n"
     ]
    }
   ],
   "source": [
    "#searching a contact:\n",
    "\n",
    "def search(a):\n",
    "    x=phone.get(a)\n",
    "    if a not in phone:\n",
    "        print(\"not exist\")\n",
    "    else:\n",
    "        print(x)\n",
    "search('manoj')"
   ]
  },
  {
   "cell_type": "code",
   "execution_count": 12,
   "metadata": {},
   "outputs": [
    {
     "name": "stdout",
     "output_type": "stream",
     "text": [
      "sunccesfully \n"
     ]
    }
   ],
   "source": [
    "contact(\"manoj\",\"5863248\")"
   ]
  },
  {
   "cell_type": "code",
   "execution_count": 13,
   "metadata": {},
   "outputs": [
    {
     "name": "stdout",
     "output_type": "stream",
     "text": [
      "sunccesfully \n"
     ]
    }
   ],
   "source": [
    "contact(\"koti\",\"58963258652\")"
   ]
  },
  {
   "cell_type": "code",
   "execution_count": 14,
   "metadata": {},
   "outputs": [
    {
     "name": "stdout",
     "output_type": "stream",
     "text": [
      "sunccesfully \n"
     ]
    }
   ],
   "source": [
    "contact(\"raj\",\"98745632111\")"
   ]
  },
  {
   "cell_type": "code",
   "execution_count": 15,
   "metadata": {},
   "outputs": [
    {
     "name": "stdout",
     "output_type": "stream",
     "text": [
      "sunccesfully \n"
     ]
    }
   ],
   "source": [
    "contact(\"priya\",\"48652586\")"
   ]
  },
  {
   "cell_type": "code",
   "execution_count": 16,
   "metadata": {},
   "outputs": [
    {
     "data": {
      "text/plain": [
       "{'shiri': '786252411',\n",
       " 'raja': '5646503289',\n",
       " 'manoj': '5863248',\n",
       " 'koti': '58963258652',\n",
       " 'raj': '98745632111',\n",
       " 'priya': '48652586'}"
      ]
     },
     "execution_count": 16,
     "metadata": {},
     "output_type": "execute_result"
    }
   ],
   "source": [
    "phone"
   ]
  },
  {
   "cell_type": "code",
   "execution_count": 17,
   "metadata": {},
   "outputs": [
    {
     "name": "stdout",
     "output_type": "stream",
     "text": [
      "enter a name to deleteraja\n",
      "deleted succusfully\n"
     ]
    }
   ],
   "source": [
    "#deleting a contact:\n",
    "\n",
    "a=input(\"enter a name to delete\")\n",
    "if a in phone:\n",
    "    phone.pop(a)\n",
    "    print(\"deleted succusfully\")\n",
    "else:\n",
    "    print(\"detail not found\")\n",
    "    "
   ]
  },
  {
   "cell_type": "code",
   "execution_count": 18,
   "metadata": {},
   "outputs": [
    {
     "data": {
      "text/plain": [
       "{'shiri': '786252411',\n",
       " 'manoj': '5863248',\n",
       " 'koti': '58963258652',\n",
       " 'raj': '98745632111',\n",
       " 'priya': '48652586'}"
      ]
     },
     "execution_count": 18,
     "metadata": {},
     "output_type": "execute_result"
    }
   ],
   "source": [
    "phone"
   ]
  },
  {
   "cell_type": "code",
   "execution_count": 36,
   "metadata": {},
   "outputs": [
    {
     "name": "stdout",
     "output_type": "stream",
     "text": [
      "enter a stringPyThon\n",
      "P T "
     ]
    }
   ],
   "source": [
    "# Input: PyThon\n",
    "# Output: P T\n",
    "\n",
    "a=input(\"enter a string\")\n",
    "for i in a:\n",
    "    if ord(i)>=65 and ord(i)<=90:\n",
    "        print(i,end=\" \")\n"
   ]
  },
  {
   "cell_type": "code",
   "execution_count": 4,
   "metadata": {},
   "outputs": [
    {
     "name": "stdout",
     "output_type": "stream",
     "text": [
      "enter a string : python easy language\n",
      "EASY "
     ]
    }
   ],
   "source": [
    "#python easy language:\n",
    "#print middle string in upper:\n",
    "\n",
    "a=input(\"enter a string : \")\n",
    "list1=[]\n",
    "list1=a.split()\n",
    "list1\n",
    "for i in range(1,len(list1),2):\n",
    "    print(list1[i].upper(),end=\" \")\n"
   ]
  },
  {
   "cell_type": "code",
   "execution_count": 39,
   "metadata": {},
   "outputs": [
    {
     "name": "stdout",
     "output_type": "stream",
     "text": [
      "enter a stringpython easy language\n"
     ]
    },
    {
     "data": {
      "text/plain": [
       "' easy'"
      ]
     },
     "execution_count": 39,
     "metadata": {},
     "output_type": "execute_result"
    }
   ],
   "source": [
    "import re\n",
    "a=input(\"enter a string\")\n",
    "x=re.search('\\s\\w+',a)\n",
    "x.group()"
   ]
  },
  {
   "cell_type": "code",
   "execution_count": 8,
   "metadata": {},
   "outputs": [
    {
     "name": "stdout",
     "output_type": "stream",
     "text": [
      "sunccesfully \n",
      "sunccesfully \n",
      "sunccesfully \n",
      "enter the name you want to search :siri\n",
      "9876543234\n",
      "detail not found\n"
     ]
    }
   ],
   "source": [
    "#creating a contact:\n",
    "\n",
    "import re\n",
    "phone={}\n",
    "def contact(a,b):\n",
    "    x=re.match('[a-zA-z]{3,15}',a).group()\n",
    "    y=re.match('^(9|8|7|6)[0-9]{9}',b).group()\n",
    "    if a not in phone:\n",
    "        phone[x]=y\n",
    "        print(\"sunccesfully \")\n",
    "    else:\n",
    "        print(\"already exist\")\n",
    "    return\n",
    "contact(\"siri\",\"9876543234567\")\n",
    "contact(\"dad\",\"87654321234567\")\n",
    "contact(\"maaa\",\"6543212345432\")\n",
    "\n",
    "def search(a):\n",
    "    x=phone.get(a)\n",
    "    if a not in phone:\n",
    "        print(\"not exist\")\n",
    "    else:\n",
    "        print(x)\n",
    "a=input(\"enter the name you want to search :\")\n",
    "search(a)\n",
    "\n",
    "\n",
    "def delete(b):\n",
    "    if b in phone:\n",
    "        phone.pop(b)\n",
    "        print(\"deleted succusfully\")\n",
    "    else:\n",
    "        print(\"detail not found\")\n",
    "b=(\"enter the name you want to delete :\")\n",
    "delete(b)"
   ]
  },
  {
   "cell_type": "code",
   "execution_count": 6,
   "metadata": {},
   "outputs": [
    {
     "data": {
      "text/plain": [
       "{'siri': '9876543234', 'dad': '8765432123', 'maaa': '6543212345'}"
      ]
     },
     "execution_count": 6,
     "metadata": {},
     "output_type": "execute_result"
    }
   ],
   "source": [
    "phone"
   ]
  },
  {
   "cell_type": "code",
   "execution_count": 43,
   "metadata": {},
   "outputs": [
    {
     "name": "stdout",
     "output_type": "stream",
     "text": [
      "sunccesfully \n"
     ]
    }
   ],
   "source": [
    "contact(\"shiva\",\"7654323456765432345678\")"
   ]
  },
  {
   "cell_type": "code",
   "execution_count": 44,
   "metadata": {},
   "outputs": [
    {
     "data": {
      "text/plain": [
       "{'siri': '9876543234',\n",
       " 'dad': '8765432123',\n",
       " 'maaa': '6543212345',\n",
       " 'shiva': '7654323456'}"
      ]
     },
     "execution_count": 44,
     "metadata": {},
     "output_type": "execute_result"
    }
   ],
   "source": [
    "phone"
   ]
  },
  {
   "cell_type": "code",
   "execution_count": null,
   "metadata": {},
   "outputs": [],
   "source": []
  }
 ],
 "metadata": {
  "kernelspec": {
   "display_name": "Python 3",
   "language": "python",
   "name": "python3"
  },
  "language_info": {
   "codemirror_mode": {
    "name": "ipython",
    "version": 3
   },
   "file_extension": ".py",
   "mimetype": "text/x-python",
   "name": "python",
   "nbconvert_exporter": "python",
   "pygments_lexer": "ipython3",
   "version": "3.7.3"
  }
 },
 "nbformat": 4,
 "nbformat_minor": 2
}
