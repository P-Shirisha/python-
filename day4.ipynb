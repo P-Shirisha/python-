{
 "cells": [
  {
   "cell_type": "code",
   "execution_count": 5,
   "metadata": {},
   "outputs": [
    {
     "name": "stdout",
     "output_type": "stream",
     "text": [
      "enter a stringshirisha\n",
      "enter a charactera\n"
     ]
    },
    {
     "data": {
      "text/plain": [
       "1"
      ]
     },
     "execution_count": 5,
     "metadata": {},
     "output_type": "execute_result"
    }
   ],
   "source": [
    "#Read the string and char as input and Print no of occurance of character in the given string\n",
    "#   Example 1;\n",
    "#     Input : Application,p\n",
    "#     Output : 2\n",
    "\n",
    "a=input(\"enter a string\")\n",
    "b=input(\"enter a character\")\n",
    "a.count(b)"
   ]
  },
  {
   "cell_type": "code",
   "execution_count": 7,
   "metadata": {},
   "outputs": [
    {
     "name": "stdout",
     "output_type": "stream",
     "text": [
      "enter a stringpythonProgrMMING\n"
     ]
    },
    {
     "data": {
      "text/plain": [
       "'PYTHONpROGRmming'"
      ]
     },
     "execution_count": 7,
     "metadata": {},
     "output_type": "execute_result"
    }
   ],
   "source": [
    "#Read the string as input and Print the output following the manner\n",
    "#Example #1:\n",
    "#  Input: PythonProgrMMINg \n",
    "#  Output: pYTHONpROGRmminG\n",
    "\n",
    "a=input(\"enter a string\")\n",
    "a.swapcase()"
   ]
  },
  {
   "cell_type": "code",
   "execution_count": 77,
   "metadata": {},
   "outputs": [
    {
     "name": "stdout",
     "output_type": "stream",
     "text": [
      "enter a stringabcd\n",
      "not a palindrome\n"
     ]
    }
   ],
   "source": [
    "# test whether the string is palindrome or not:-\n",
    "\n",
    "a=input(\"enter a string\")\n",
    "if a[0]==a[-1]:\n",
    "    print(\"palindrome\")\n",
    "else:\n",
    "    print(\"not a palindrome\")"
   ]
  },
  {
   "cell_type": "code",
   "execution_count": 96,
   "metadata": {},
   "outputs": [
    {
     "name": "stdout",
     "output_type": "stream",
     "text": [
      "not a palindrome\n"
     ]
    }
   ],
   "source": [
    "# test whether the string is palindrome or not:-\n",
    "\n",
    "a=\"abcd\"\n",
    "if a== a[-1::-1]:\n",
    "    print(\"palindrome\")\n",
    "else:\n",
    "    print(\"not a palindrome\")"
   ]
  },
  {
   "cell_type": "code",
   "execution_count": 2,
   "metadata": {},
   "outputs": [
    {
     "name": "stdout",
     "output_type": "stream",
     "text": [
      "[1, 2, 3, 4, 5, 6]\n"
     ]
    }
   ],
   "source": [
    "#convert string into list:-\n",
    "\n",
    "a=\"1 2 3 4 5 6\"\n",
    "x=a.split()\n",
    "x\n",
    "y=[]\n",
    "for i in x:\n",
    "    y.append(int(i))\n",
    "print(y)"
   ]
  },
  {
   "cell_type": "code",
   "execution_count": 99,
   "metadata": {},
   "outputs": [
    {
     "data": {
      "text/plain": [
       "'shirisha'"
      ]
     },
     "execution_count": 99,
     "metadata": {},
     "output_type": "execute_result"
    }
   ],
   "source": [
    "#print the second largest string from the list of string:\n",
    "\n",
    "a=[\"shirisha\",\"manoj\",\"koti\",\"programming\"]\n",
    "b=[]\n",
    "for i in a:\n",
    "    b.append(len(i))\n",
    "c=b.copy()\n",
    "b.sort()\n",
    "a[c.index(b[-2])]\n",
    "    \n"
   ]
  },
  {
   "cell_type": "code",
   "execution_count": 107,
   "metadata": {},
   "outputs": [
    {
     "name": "stdout",
     "output_type": "stream",
     "text": [
      "enter a stringmanoj\n",
      "obopo"
     ]
    }
   ],
   "source": [
    "# Read the input as string and Output will followed\n",
    "#   Example #1:\n",
    "#     Input : orange \n",
    "#Reason: Print the next consonent to the vowel and Print the vowel to the next consonent\n",
    "\n",
    "a=input(\"enter a string\")\n",
    "vowels=\"aeiou\"\n",
    "for i in a:\n",
    "    if i in vowels:\n",
    "        print(chr(ord(i)+1),end='')\n",
    "    else:\n",
    "        if ord(i)>97 and ord(i)<101:\n",
    "            print(\"e\",end=\"\")\n",
    "        elif ord(i)>101 and ord(i)<105:\n",
    "            print(\"i\",end=\"\")\n",
    "        elif ord(i)>105 and ord(i)<111:\n",
    "            print(\"o\",end=\"\")\n",
    "        elif ord(i)>111 and ord(i)<117:\n",
    "            print(\"u\",end=\"\")\n",
    "        else:\n",
    "            print(\"a\",end=\"\")"
   ]
  }
 ],
 "metadata": {
  "kernelspec": {
   "display_name": "Python 3",
   "language": "python",
   "name": "python3"
  },
  "language_info": {
   "codemirror_mode": {
    "name": "ipython",
    "version": 3
   },
   "file_extension": ".py",
   "mimetype": "text/x-python",
   "name": "python",
   "nbconvert_exporter": "python",
   "pygments_lexer": "ipython3",
   "version": "3.7.3"
  }
 },
 "nbformat": 4,
 "nbformat_minor": 2
}
