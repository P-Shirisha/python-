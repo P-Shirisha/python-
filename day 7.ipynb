{
 "cells": [
  {
   "cell_type": "markdown",
   "metadata": {},
   "source": [
    "## * operators:-"
   ]
  },
  {
   "cell_type": "code",
   "execution_count": 1,
   "metadata": {},
   "outputs": [
    {
     "name": "stdout",
     "output_type": "stream",
     "text": [
      "30\n",
      "-10\n",
      "200\n",
      "0.5\n",
      "10\n",
      "0\n",
      "100000000000000000000\n"
     ]
    }
   ],
   "source": [
    "#binary operators\n",
    "#1.Arithematic operators : + , - ,* ,/,%, //(floor division) , ** (exponent)\n",
    "a = 10\n",
    "b = 20\n",
    "print(a + b)\n",
    "print(a - b)\n",
    "print(a * b)\n",
    "print(a / b)\n",
    "print(a % b)\n",
    "print(a // b)\n",
    "print(a ** b)"
   ]
  },
  {
   "cell_type": "code",
   "execution_count": 2,
   "metadata": {},
   "outputs": [
    {
     "data": {
      "text/plain": [
       "-7"
      ]
     },
     "execution_count": 2,
     "metadata": {},
     "output_type": "execute_result"
    }
   ],
   "source": [
    "-20 // 3   #will return the least quotient"
   ]
  },
  {
   "cell_type": "code",
   "execution_count": 3,
   "metadata": {},
   "outputs": [
    {
     "name": "stdout",
     "output_type": "stream",
     "text": [
      "False\n",
      "True\n",
      "False\n"
     ]
    }
   ],
   "source": [
    "# 2. logical operators  : and , or, not\n",
    "\n",
    "print(a>0 and b<0) #(and operation)\n",
    "print(a>0 or b<0) #(or operation)\n",
    "print(not(a>0))  #(not operations)"
   ]
  },
  {
   "cell_type": "code",
   "execution_count": 4,
   "metadata": {},
   "outputs": [
    {
     "name": "stdout",
     "output_type": "stream",
     "text": [
      "True\n",
      "False\n",
      "True\n",
      "False\n",
      "False\n",
      "True\n"
     ]
    }
   ],
   "source": [
    "# 3.Relational opertors : to check the comparisions\n",
    "# < ,> , <= ,>= ,== ,!=\n",
    "\n",
    "print(a<b)\n",
    "print(a>b)\n",
    "print(a<=b)\n",
    "print(a>=b)\n",
    "print(a==b)\n",
    "print(a!=b)\n",
    "\n",
    "    "
   ]
  },
  {
   "cell_type": "code",
   "execution_count": 5,
   "metadata": {},
   "outputs": [
    {
     "name": "stdout",
     "output_type": "stream",
     "text": [
      "36\n"
     ]
    }
   ],
   "source": [
    "#4.Assignment operators : = ,+= ,-= ,*= ,%=, /= ,//=,**=\n",
    "\n",
    "\n",
    "i=10\n",
    "i += 1 #i=i+1 #10+1=11\n",
    "i -= 2  #11-2=9\n",
    "i *= 4  #9*4=36\n",
    " \n",
    "print(i)"
   ]
  },
  {
   "cell_type": "code",
   "execution_count": 6,
   "metadata": {},
   "outputs": [
    {
     "name": "stdout",
     "output_type": "stream",
     "text": [
      "0\n",
      "30\n",
      "30\n",
      "-11\n",
      "40\n",
      "2\n"
     ]
    }
   ],
   "source": [
    "#5. Bitwise operators: &,|,^,~ ,<< , >>\n",
    "#a=10 --> 0000 1010 (decimal to bits)\n",
    "#b=20 --> 0001 0100 (decimal to bits)\n",
    "\n",
    "print(a & b) #0000 0000\n",
    "print(a | b) #0001 1110\n",
    "print(a ^ b) #0001 1110\n",
    "print(~a) #1111 0101+1==1111 0110\n",
    "print(a << 2) #will add 2 zeros to the last and remove from frst(<<--left shift)\n",
    "print(a >> 2) #will add 2 zeros to the frst and remove from last(>>--right shift)\n",
    "\n"
   ]
  },
  {
   "cell_type": "code",
   "execution_count": 7,
   "metadata": {},
   "outputs": [
    {
     "data": {
      "text/plain": [
       "False"
      ]
     },
     "execution_count": 7,
     "metadata": {},
     "output_type": "execute_result"
    }
   ],
   "source": [
    "#6.membership operators: in ,not in (to check whether the value present in given variable or not)\n",
    "#if present return true\n",
    "\n",
    "list=[12,34,56,78,95]\n",
    "12 in list\n",
    "120 in list\n",
    "\n",
    "\n",
    "\n"
   ]
  },
  {
   "cell_type": "code",
   "execution_count": 8,
   "metadata": {},
   "outputs": [
    {
     "data": {
      "text/plain": [
       "False"
      ]
     },
     "execution_count": 8,
     "metadata": {},
     "output_type": "execute_result"
    }
   ],
   "source": [
    "12 not in list"
   ]
  },
  {
   "cell_type": "code",
   "execution_count": 9,
   "metadata": {},
   "outputs": [
    {
     "data": {
      "text/plain": [
       "False"
      ]
     },
     "execution_count": 9,
     "metadata": {},
     "output_type": "execute_result"
    }
   ],
   "source": [
    "#7. identity operators: is , is not  (to check the address of a variable)(it compares address of the given value)\n",
    "#address are stored depend on the value.. if the values are same it create only one address with different variable names.\n",
    "\n",
    "\n",
    "x=10\n",
    "y=20\n",
    "z=10\n",
    "# here x and y has same address with diff variable names\n",
    "x is y\n",
    "\n",
    "\n"
   ]
  },
  {
   "cell_type": "code",
   "execution_count": 10,
   "metadata": {},
   "outputs": [
    {
     "data": {
      "text/plain": [
       "140704302863456"
      ]
     },
     "execution_count": 10,
     "metadata": {},
     "output_type": "execute_result"
    }
   ],
   "source": [
    "id(x)"
   ]
  },
  {
   "cell_type": "code",
   "execution_count": 11,
   "metadata": {},
   "outputs": [
    {
     "data": {
      "text/plain": [
       "140704302863776"
      ]
     },
     "execution_count": 11,
     "metadata": {},
     "output_type": "execute_result"
    }
   ],
   "source": [
    "id(y)"
   ]
  },
  {
   "cell_type": "code",
   "execution_count": 12,
   "metadata": {},
   "outputs": [
    {
     "data": {
      "text/plain": [
       "140704302863456"
      ]
     },
     "execution_count": 12,
     "metadata": {},
     "output_type": "execute_result"
    }
   ],
   "source": [
    "id(z)"
   ]
  },
  {
   "cell_type": "code",
   "execution_count": 13,
   "metadata": {},
   "outputs": [
    {
     "data": {
      "text/plain": [
       "10"
      ]
     },
     "execution_count": 13,
     "metadata": {},
     "output_type": "execute_result"
    }
   ],
   "source": [
    "# ternary operator:\n",
    "# syntax: [on true] if [condition] else [on false]\n",
    "\n",
    "res = x if x<y else y\n",
    "res"
   ]
  },
  {
   "cell_type": "code",
   "execution_count": 14,
   "metadata": {},
   "outputs": [
    {
     "name": "stdout",
     "output_type": "stream",
     "text": [
      "enter a number3\n"
     ]
    },
    {
     "data": {
      "text/plain": [
       "9"
      ]
     },
     "execution_count": 14,
     "metadata": {},
     "output_type": "execute_result"
    }
   ],
   "source": [
    "#read a number as input if number is even then return square of the number..\n",
    "#if it is not the even number multiply the number by 3\n",
    "\n",
    "x=int(input('enter a number'))\n",
    "result=x*x if x%2==0 else x*3  #(in the place of x*x we can use x**2)\n",
    "result"
   ]
  },
  {
   "cell_type": "markdown",
   "metadata": {},
   "source": [
    "## Functions:-"
   ]
  },
  {
   "cell_type": "markdown",
   "metadata": {},
   "source": [
    "### 1. Build in functions\n",
    "### 2. User defined functions"
   ]
  },
  {
   "cell_type": "markdown",
   "metadata": {},
   "source": [
    "### syntax for user defined function:\n",
    "#### def function_name(arg list):\n",
    "####      .............\n",
    "####      .............\n",
    "####      .............\n",
    "####      return value"
   ]
  },
  {
   "cell_type": "code",
   "execution_count": 15,
   "metadata": {},
   "outputs": [
    {
     "name": "stdout",
     "output_type": "stream",
     "text": [
      "30\n"
     ]
    }
   ],
   "source": [
    "#example for creating a user defined function:\n",
    "def add(x,y):\n",
    "    sum=x+y\n",
    "    return(sum)\n",
    "print(add(10,20))\n"
   ]
  },
  {
   "cell_type": "code",
   "execution_count": 23,
   "metadata": {},
   "outputs": [
    {
     "name": "stdout",
     "output_type": "stream",
     "text": [
      "enter a number1883\n"
     ]
    },
    {
     "data": {
      "text/plain": [
       "16"
      ]
     },
     "execution_count": 23,
     "metadata": {},
     "output_type": "execute_result"
    }
   ],
   "source": [
    "#Create a function to read a number and return sum of even digits in the given nuumber\n",
    "\n",
    "def even(x):\n",
    "    sum=0\n",
    "    while (x > 0):\n",
    "        rem = (x % 10)\n",
    "        if rem %2 == 0:\n",
    "            sum=sum+rem\n",
    "        x = int(x/10)\n",
    "    return sum\n",
    "x=int(input(\"enter a number\"))\n",
    "even(x)"
   ]
  },
  {
   "cell_type": "code",
   "execution_count": 29,
   "metadata": {},
   "outputs": [
    {
     "name": "stdout",
     "output_type": "stream",
     "text": [
      "enter a number12345\n",
      "5\n"
     ]
    }
   ],
   "source": [
    "#Read a number and Print the large digit using functions\n",
    "\n",
    "\n",
    "def large (a):\n",
    "    list=[]\n",
    "    while(a>0):\n",
    "        rem=(a%10)\n",
    "        list.append(rem)\n",
    "        a=(a/10)\n",
    "    b=max(list)\n",
    "    return b\n",
    "a=int(input(\"enter a number\"))\n",
    "print(large(a))\n",
    "        \n",
    "        "
   ]
  },
  {
   "cell_type": "code",
   "execution_count": 26,
   "metadata": {},
   "outputs": [
    {
     "name": "stdout",
     "output_type": "stream",
     "text": [
      "enter a number123\n",
      "321\n"
     ]
    }
   ],
   "source": [
    "#Read a number Input and Output reverse of the given number\n",
    "\n",
    "def reverse(x):\n",
    "    d=0\n",
    "    while (x > 0):\n",
    "        rem = (x % 10)\n",
    "        d=d*10+rem        \n",
    "            \n",
    "        x = int(x/10)\n",
    "    return d\n",
    "x=int(input(\"enter a number\"))\n",
    "print(reverse(x))    \n",
    "    \n",
    "\n"
   ]
  },
  {
   "cell_type": "code",
   "execution_count": 31,
   "metadata": {},
   "outputs": [
    {
     "name": "stdout",
     "output_type": "stream",
     "text": [
      "enter a number10\n",
      "1\n",
      "2\n",
      "3\n",
      "4\n",
      "5\n",
      "6\n",
      "7\n",
      "8\n",
      "9\n",
      "10\n"
     ]
    }
   ],
   "source": [
    "#Function to print N Natural numbers with for loop\n",
    "\n",
    "def number(x):\n",
    "    i=1\n",
    "    while(x>i):\n",
    "        print(i)\n",
    "        i=i+1\n",
    "    return i\n",
    "x=int(input(\"enter a number\"))\n",
    "print(number(x))"
   ]
  },
  {
   "cell_type": "code",
   "execution_count": 20,
   "metadata": {},
   "outputs": [
    {
     "name": "stdout",
     "output_type": "stream",
     "text": [
      "enter the starting limit20\n",
      "enter the last limit50\n",
      "20  21  22  23  24  25  26  27  28  29  30  31  32  33  34  35  36  37  38  39  40  41  42  43  44  45  46  47  48  49  50\n"
     ]
    }
   ],
   "source": [
    "#Function to print the numbers between two limits\n",
    "\n",
    "def prime(x,y):\n",
    "    while(y>x):\n",
    "        print(x,end=\"  \")\n",
    "        x=x+1\n",
    "    return x\n",
    "x=int(input(\"enter the starting limit\"))\n",
    "y=int(input(\"enter the last limit\")) \n",
    "print(prime(x,y))"
   ]
  },
  {
   "cell_type": "code",
   "execution_count": 30,
   "metadata": {},
   "outputs": [
    {
     "name": "stdout",
     "output_type": "stream",
     "text": [
      "enter the starting limit500\n",
      "enter the last limit520\n",
      "500  502  504  506  508  510  512  514  516  518  520\n"
     ]
    }
   ],
   "source": [
    "#6.Function to print alternate numbers\n",
    " #[500,520] -- 500 502 504 506 508 .... 520\n",
    " #[100,150] -- 100 104 108 112 116\n",
    "\n",
    "def prime(x,y):\n",
    "    while(y>x):\n",
    "        print(x,end=\"  \")\n",
    "        x=x+2\n",
    "    return x\n",
    "x=int(input(\"enter the starting limit\"))\n",
    "y=int(input(\"enter the last limit\")) \n",
    "print(prime(x,y))"
   ]
  },
  {
   "cell_type": "code",
   "execution_count": null,
   "metadata": {},
   "outputs": [],
   "source": []
  }
 ],
 "metadata": {
  "kernelspec": {
   "display_name": "Python 3",
   "language": "python",
   "name": "python3"
  },
  "language_info": {
   "codemirror_mode": {
    "name": "ipython",
    "version": 3
   },
   "file_extension": ".py",
   "mimetype": "text/x-python",
   "name": "python",
   "nbconvert_exporter": "python",
   "pygments_lexer": "ipython3",
   "version": "3.7.3"
  }
 },
 "nbformat": 4,
 "nbformat_minor": 2
}
