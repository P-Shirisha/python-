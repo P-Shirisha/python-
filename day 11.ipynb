{
 "cells": [
  {
   "cell_type": "markdown",
   "metadata": {},
   "source": [
    "## File Management:"
   ]
  },
  {
   "cell_type": "code",
   "execution_count": 9,
   "metadata": {},
   "outputs": [],
   "source": [
    "# we have two types of files\n",
    "# 1.text type (text)\n",
    "# 2.binary type (images,videos etc....)\n",
    "\n"
   ]
  },
  {
   "cell_type": "code",
   "execution_count": 10,
   "metadata": {},
   "outputs": [
    {
     "name": "stdout",
     "output_type": "stream",
     "text": [
      "file name:  abc.txt\n",
      "file mode: w\n",
      "is file readable : False\n",
      "is file writable : True\n",
      "is file closed : False\n",
      "is file closed: True\n"
     ]
    }
   ],
   "source": [
    "f=open(\"abc.txt\",'w')\n",
    "print(\"file name: \",f.name)\n",
    "print(\"file mode:\",f.mode)\n",
    "print(\"is file readable :\",f.readable())\n",
    "print(\"is file writable :\",f.writable())\n",
    "print(\"is file closed :\",f.closed)\n",
    "f.close()\n",
    "print(\"is file closed:\",f.closed)"
   ]
  },
  {
   "cell_type": "code",
   "execution_count": 11,
   "metadata": {},
   "outputs": [],
   "source": [
    "# using writelines:\n",
    "f = open(\"demofile1.txt\", \"w\")\n",
    "f.writelines([\"See you soon! \\n\", \"Over and out. \\n\",\"shirisha \\n\",\"shiva \\n\",\"ganesh \\n\",\"uma \"])\n",
    "f.close()"
   ]
  },
  {
   "cell_type": "code",
   "execution_count": 12,
   "metadata": {},
   "outputs": [],
   "source": [
    "# using write:\n",
    "f=open(\"1.txt\",'w')\n",
    "f.write(\"shirisha\")\n",
    "f.close()"
   ]
  },
  {
   "cell_type": "code",
   "execution_count": 13,
   "metadata": {},
   "outputs": [
    {
     "name": "stdout",
     "output_type": "stream",
     "text": [
      "shirisha\n"
     ]
    }
   ],
   "source": [
    "# to read total data from the file:\n",
    "f=open(\"1.txt\",'r')\n",
    "data=f.read()\n",
    "print(data)\n",
    "f.close()"
   ]
  },
  {
   "cell_type": "code",
   "execution_count": 14,
   "metadata": {},
   "outputs": [
    {
     "name": "stdout",
     "output_type": "stream",
     "text": [
      "shi\n"
     ]
    }
   ],
   "source": [
    "# to read frst number of characters from the text file :\n",
    "f=open(\"1.txt\",'r')\n",
    "data=f.read(3)\n",
    "print(data)\n",
    "f.close()"
   ]
  },
  {
   "cell_type": "code",
   "execution_count": 15,
   "metadata": {},
   "outputs": [
    {
     "name": "stdout",
     "output_type": "stream",
     "text": [
      "See you soon! \n",
      "\n",
      "Over and out. \n",
      "\n",
      "shirisha \n",
      "\n",
      "shiva \n",
      "\n"
     ]
    }
   ],
   "source": [
    "# to read data line by line:\n",
    "f = open(\"demofile1.txt\", \"r\")\n",
    "line1=f.readline()\n",
    "print(line1)\n",
    "line2=f.readline()\n",
    "print(line2)\n",
    "line3=f.readline()\n",
    "print(line3)\n",
    "line4=f.readline()\n",
    "print(line4)\n"
   ]
  },
  {
   "cell_type": "code",
   "execution_count": 16,
   "metadata": {},
   "outputs": [
    {
     "name": "stdout",
     "output_type": "stream",
     "text": [
      "uma "
     ]
    }
   ],
   "source": [
    "# to read all lines:\n",
    "f=open(\"demofile1.txt\", \"r\")\n",
    "lines=f.readlines()\n",
    "for line in lines[5]:\n",
    "    print(line,end=\"\")\n",
    "f.close()"
   ]
  },
  {
   "cell_type": "code",
   "execution_count": 17,
   "metadata": {},
   "outputs": [],
   "source": [
    "# to write a line to the existing file using append:\n",
    "\n",
    "f=open(\"demofile1.txt\", \"a\")\n",
    "f.write(\"hello all\")\n",
    "f.close()"
   ]
  },
  {
   "cell_type": "markdown",
   "metadata": {},
   "source": [
    "## with statement:"
   ]
  },
  {
   "cell_type": "code",
   "execution_count": 18,
   "metadata": {},
   "outputs": [],
   "source": [
    "#the with statement is used to open the file.\n",
    "#the advantage of with statement is we need not close the file when we open it\n",
    "#the with statement will automatically close the file after all the executions finished."
   ]
  },
  {
   "cell_type": "code",
   "execution_count": 19,
   "metadata": {},
   "outputs": [
    {
     "ename": "TypeError",
     "evalue": "write() takes no keyword arguments",
     "output_type": "error",
     "traceback": [
      "\u001b[1;31m---------------------------------------------------------------------------\u001b[0m",
      "\u001b[1;31mTypeError\u001b[0m                                 Traceback (most recent call last)",
      "\u001b[1;32m<ipython-input-19-e8f690f266f8>\u001b[0m in \u001b[0;36m<module>\u001b[1;34m\u001b[0m\n\u001b[0;32m      1\u001b[0m \u001b[1;31m#example using (with) statement:\u001b[0m\u001b[1;33m\u001b[0m\u001b[1;33m\u001b[0m\u001b[1;33m\u001b[0m\u001b[0m\n\u001b[0;32m      2\u001b[0m \u001b[1;32mwith\u001b[0m \u001b[0mopen\u001b[0m\u001b[1;33m(\u001b[0m\u001b[1;34m\"demofile1.txt\"\u001b[0m\u001b[1;33m,\u001b[0m \u001b[1;34m\"a\"\u001b[0m\u001b[1;33m)\u001b[0m \u001b[1;32mas\u001b[0m \u001b[0mf\u001b[0m\u001b[1;33m:\u001b[0m\u001b[1;33m\u001b[0m\u001b[1;33m\u001b[0m\u001b[0m\n\u001b[1;32m----> 3\u001b[1;33m     \u001b[0mf\u001b[0m\u001b[1;33m.\u001b[0m\u001b[0mwrite\u001b[0m\u001b[1;33m(\u001b[0m\u001b[1;34m\"abcd\"\u001b[0m\u001b[1;33m,\u001b[0m\u001b[0mend\u001b[0m\u001b[1;33m=\u001b[0m\u001b[1;34m\"\"\u001b[0m\u001b[1;33m)\u001b[0m\u001b[1;33m\u001b[0m\u001b[1;33m\u001b[0m\u001b[0m\n\u001b[0m\u001b[0;32m      4\u001b[0m     \u001b[0mf\u001b[0m\u001b[1;33m.\u001b[0m\u001b[0mwrite\u001b[0m\u001b[1;33m(\u001b[0m\u001b[1;34m\"efgh\"\u001b[0m\u001b[1;33m,\u001b[0m\u001b[0mend\u001b[0m\u001b[1;33m=\u001b[0m\u001b[1;34m\"\"\u001b[0m\u001b[1;33m)\u001b[0m\u001b[1;33m\u001b[0m\u001b[1;33m\u001b[0m\u001b[0m\n\u001b[0;32m      5\u001b[0m     \u001b[0mprint\u001b[0m\u001b[1;33m(\u001b[0m\u001b[1;34m\"is file is closed\"\u001b[0m\u001b[1;33m,\u001b[0m\u001b[0mf\u001b[0m\u001b[1;33m.\u001b[0m\u001b[0mclosed\u001b[0m\u001b[1;33m)\u001b[0m\u001b[1;33m\u001b[0m\u001b[1;33m\u001b[0m\u001b[0m\n",
      "\u001b[1;31mTypeError\u001b[0m: write() takes no keyword arguments"
     ]
    }
   ],
   "source": [
    "#example using (with) statement:\n",
    "with open(\"demofile1.txt\", \"a\") as f:\n",
    "    f.write(\"abcd\",end=\"\")\n",
    "    f.write(\"efgh\",end=\"\")\n",
    "    print(\"is file is closed\",f.closed)\n",
    "print(\"is file is closed\",f.closed)"
   ]
  },
  {
   "cell_type": "markdown",
   "metadata": {},
   "source": [
    "### seek( ) and tell() method:\n"
   ]
  },
  {
   "cell_type": "code",
   "execution_count": null,
   "metadata": {},
   "outputs": [],
   "source": [
    "# tell() method: we can use tell method to know the current location of the cursor."
   ]
  },
  {
   "cell_type": "code",
   "execution_count": null,
   "metadata": {},
   "outputs": [],
   "source": [
    "# example using tell() method:\n",
    "f=open(\"demofile1.txt\", \"r\")\n",
    "print(f.tell())\n",
    "print(f.read(3))\n",
    "print(f.tell())\n",
    "print(f.read(5))\n",
    "print(f.tell())\n"
   ]
  },
  {
   "cell_type": "code",
   "execution_count": null,
   "metadata": {},
   "outputs": [],
   "source": [
    "# seek() method: we can use seek( ) method to move cursor. we can insert location where we want the cursor\n",
    "f=open(\"demofile1.txt\", \"r\")\n",
    "f.seek(8)\n",
    "print(f.read(3))"
   ]
  },
  {
   "cell_type": "code",
   "execution_count": null,
   "metadata": {},
   "outputs": [],
   "source": [
    "# example using seek,tell methods:\n",
    "\n",
    "data=(\"all students are good\")\n",
    "f=open(\"siri.txt\",\"w\")\n",
    "f.write(data)\n",
    "with open(\"siri.txt\",\"r+\") as f:\n",
    "    text=f.read()\n",
    "    print(text)\n",
    "    print(\"the cursor is at\",f.tell())\n",
    "    f.seek(15)\n",
    "    print(\"the cursor is at\",f.tell())\n",
    "    f.write(\"gems!!!!\")\n",
    "    f.seek(0)\n",
    "    text=f.read()\n",
    "    print(\"data after modifications\")\n",
    "    print(text)"
   ]
  },
  {
   "cell_type": "code",
   "execution_count": null,
   "metadata": {},
   "outputs": [],
   "source": [
    "#program to check whether the given file exists or not..if yes print data otherwise exit by printing not found:\n",
    "\n",
    "import os,sys\n",
    "fname=input(\"enter a file name\")\n",
    "if os.path.isfile(fname):\n",
    "    print(\"file exists: \",fname)\n",
    "    f=open(fname,'r')\n",
    "else:\n",
    "    print(\"file does not exist:\",fname)\n",
    "    sys.exit(0)\n",
    "print(\"the content in the file is:\")\n",
    "data=f.read()\n",
    "print(data)"
   ]
  },
  {
   "cell_type": "code",
   "execution_count": null,
   "metadata": {},
   "outputs": [],
   "source": [
    "# write a program to print the number of lines,words,characters,present in the given file:\n",
    "#1.program for print the count of lines in the file:\n",
    "\n",
    "#import os,sys\n",
    "#fname=input(\"enter a file name\")\n",
    "f=open(\"demofile1.txt\", \"r\")\n",
    "count=0\n",
    "lines=f.readlines()\n",
    "for line in lines:\n",
    "    count=count+1\n",
    "print(count)\n",
    "f.close()"
   ]
  },
  {
   "cell_type": "code",
   "execution_count": null,
   "metadata": {},
   "outputs": [],
   "source": [
    "# write a program to print the number of lines,words,characters,present in the given file:\n",
    "\n",
    "import os,sys\n",
    "fname=input(\"enter a file name\")\n",
    "count=0\n",
    "if os.path.isfile(fname):\n",
    "    print(\"file exists: \",fname)\n",
    "    f=open(fname,'r')\n",
    "else:\n",
    "    print(\"file does not exist:\",fname)\n",
    "    sys.exit(0)\n",
    "lcount=wcount=ccount=0\n",
    "for i in f:\n",
    "    lcount=lcount+1\n",
    "    ccount=ccount+len(i)\n",
    "    words=i.split()\n",
    "    wcount=wcount+len(words)\n",
    "print(\"the number of lines :\",lcount)\n",
    "print(\"the number of words :\",wcount)\n",
    "print(\"the number of character :\",ccount)"
   ]
  },
  {
   "cell_type": "markdown",
   "metadata": {},
   "source": [
    "### Zip and unzipping files:"
   ]
  },
  {
   "cell_type": "code",
   "execution_count": null,
   "metadata": {},
   "outputs": [],
   "source": [
    "# zipping : converting the large files into small one\n",
    "# with some program we cant open the file unless the password is entered.\n",
    "#syntax: f=zipfile(\"files.zip\",\"w\",\"ZIP_DEFLATED\")\n",
    "\n",
    "from zipfile import *\n",
    "\n",
    "f=ZipFile(\"files.zip\",'w')\n",
    "f.write(\"files.zip\",'r')\n",
    "f.write(\"files.zip\")\n",
    "f.close()\n",
    "print(\"files.zip file created successfully\")"
   ]
  },
  {
   "cell_type": "code",
   "execution_count": null,
   "metadata": {},
   "outputs": [],
   "source": [
    "s=\"python programming\""
   ]
  }
 ],
 "metadata": {
  "kernelspec": {
   "display_name": "Python 3",
   "language": "python",
   "name": "python3"
  },
  "language_info": {
   "codemirror_mode": {
    "name": "ipython",
    "version": 3
   },
   "file_extension": ".py",
   "mimetype": "text/x-python",
   "name": "python",
   "nbconvert_exporter": "python",
   "pygments_lexer": "ipython3",
   "version": "3.7.3"
  }
 },
 "nbformat": 4,
 "nbformat_minor": 2
}
