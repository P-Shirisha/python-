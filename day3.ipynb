{
 "cells": [
  {
   "cell_type": "markdown",
   "metadata": {},
   "source": [
    "## for loop:"
   ]
  },
  {
   "cell_type": "code",
   "execution_count": 26,
   "metadata": {},
   "outputs": [
    {
     "name": "stdout",
     "output_type": "stream",
     "text": [
      "enter a number12\n",
      "1\n",
      "2\n",
      "3\n",
      "4\n",
      "6\n",
      "12\n"
     ]
    }
   ],
   "source": [
    "## Read a number as input and Print the Output as Factors of the given number\n",
    "#Example 1:\n",
    "    # Input : 6\n",
    "    #Output : 1 2 3 6\n",
    "#Example 2 :\n",
    "    # Input : 12\n",
    "    #Output : 1 2 3 4 6 12\n",
    "    \n",
    "    \n",
    "    \n",
    "    \n",
    "a=int(input(\"enter a number\"))\n",
    "i=1\n",
    "while a+1>=i:\n",
    "    if a%i==0:\n",
    "        print(i)\n",
    "    i=i+1\n",
    "    "
   ]
  },
  {
   "cell_type": "code",
   "execution_count": 27,
   "metadata": {},
   "outputs": [
    {
     "name": "stdout",
     "output_type": "stream",
     "text": [
      "2\n",
      "3\n",
      "4\n",
      "5\n"
     ]
    }
   ],
   "source": [
    "#to print all the elements of the list using while loop\n",
    "list=[2,3,4,5]\n",
    "i=0\n",
    "while i<len(list):\n",
    "    print(list[i])\n",
    "    i=i+1\n",
    "    \n",
    "\n",
    "    "
   ]
  },
  {
   "cell_type": "code",
   "execution_count": 29,
   "metadata": {},
   "outputs": [
    {
     "name": "stdout",
     "output_type": "stream",
     "text": [
      "2\n",
      "3\n",
      "4\n",
      "5\n"
     ]
    }
   ],
   "source": [
    "#using for loop:\n",
    "for i in list:\n",
    "    print(i)"
   ]
  },
  {
   "cell_type": "code",
   "execution_count": 30,
   "metadata": {},
   "outputs": [
    {
     "name": "stdout",
     "output_type": "stream",
     "text": [
      "1\n",
      "2\n",
      "3\n",
      "4\n",
      "5\n",
      "6\n",
      "7\n",
      "8\n",
      "9\n",
      "10\n"
     ]
    }
   ],
   "source": [
    "#for loop with range()function\n",
    "for i in range(1,11):#range(start,stop,step)\n",
    "    print(i)"
   ]
  },
  {
   "cell_type": "code",
   "execution_count": 41,
   "metadata": {},
   "outputs": [
    {
     "name": "stdout",
     "output_type": "stream",
     "text": [
      "2\n",
      "4\n",
      "6\n",
      "7\n"
     ]
    }
   ],
   "source": [
    "l=[2,4,6,7]\n",
    "a=len(l)\n",
    "for i in range(a):\n",
    "    print(l[i])\n"
   ]
  },
  {
   "cell_type": "code",
   "execution_count": 1,
   "metadata": {},
   "outputs": [
    {
     "name": "stdout",
     "output_type": "stream",
     "text": [
      "enter how many students you want:3\n",
      "enter the details of 1 student\n",
      "namesiri\n",
      "age12\n",
      "addressa\n",
      "enter the details of 2 student\n",
      "nameshiva\n",
      "age23\n",
      "addressb\n",
      "enter the details of 3 student\n",
      "nameganesh\n",
      "age26\n",
      "addressc\n",
      "[['siri', 12, 'a'], ['shiva', 23, 'b'], ['ganesh', 26, 'c']]\n"
     ]
    }
   ],
   "source": [
    "a=int(input(\"enter how many students you want:\"))\n",
    "list1=[]\n",
    "for i in range(1,a+1):\n",
    "    list=[]\n",
    "    \n",
    "  \n",
    "    print(\"enter the details of\",i,\"student\")\n",
    "    name=input(\"name\")\n",
    "    age=int(input(\"age\"))\n",
    "    address=input(\"address\")\n",
    "    list.append(name)\n",
    "    list.append(age)\n",
    "    list.append(address)\n",
    "    list1.append(list)\n",
    "print(list1)"
   ]
  },
  {
   "cell_type": "code",
   "execution_count": 2,
   "metadata": {},
   "outputs": [
    {
     "data": {
      "text/plain": [
       "23"
      ]
     },
     "execution_count": 2,
     "metadata": {},
     "output_type": "execute_result"
    }
   ],
   "source": [
    "#for printing individial element\n",
    "list1[1][1]"
   ]
  },
  {
   "cell_type": "markdown",
   "metadata": {},
   "source": [
    "## 1.accept name as input and search for that name in the master list\n",
    "### if the name is available print yes or print no\n",
    "## 2.print the count of the studnts whose age is >20"
   ]
  },
  {
   "cell_type": "code",
   "execution_count": 3,
   "metadata": {},
   "outputs": [
    {
     "name": "stdout",
     "output_type": "stream",
     "text": [
      "enter the name u want :shiva\n",
      "yes 1\n"
     ]
    }
   ],
   "source": [
    "a=input(\"enter the name u want :\")\n",
    "count=0\n",
    "for i in list1:\n",
    "    if a==i[0]:\n",
    "        count=count+1\n",
    "if count==0:\n",
    "    print(\"no\")\n",
    "else:\n",
    "    print(\"yes\",count)\n",
    "        \n",
    "        "
   ]
  },
  {
   "cell_type": "code",
   "execution_count": 16,
   "metadata": {},
   "outputs": [
    {
     "data": {
      "text/plain": [
       "[['siri', 12, 'a'], ['shiva', 23, 'b'], ['ganesh', 26, 'c']]"
      ]
     },
     "execution_count": 16,
     "metadata": {},
     "output_type": "execute_result"
    }
   ],
   "source": [
    "list1"
   ]
  },
  {
   "cell_type": "code",
   "execution_count": 24,
   "metadata": {},
   "outputs": [
    {
     "name": "stdout",
     "output_type": "stream",
     "text": [
      "greater than 20,the count is 2\n"
     ]
    }
   ],
   "source": [
    "count=0\n",
    "for i in list1:\n",
    "    if i[1]>21:\n",
    "        count=count+1\n",
    "if count==0:\n",
    "    print(\"less than 20\")\n",
    "else:\n",
    "    print(\"greater than 20,the count is\",count)\n",
    "    "
   ]
  },
  {
   "cell_type": "code",
   "execution_count": 7,
   "metadata": {},
   "outputs": [
    {
     "name": "stdout",
     "output_type": "stream",
     "text": [
      "enter a number10\n",
      "not prime 2\n"
     ]
    }
   ],
   "source": [
    "#Read the Input as Number and Print the Output as True or False. If the input number is Prime then Print True otherwise print Fasle\n",
    " #Example 1:\n",
    "    #Input : 11\n",
    "    #Output : True\n",
    " #Example #2:\n",
    "    #Input : 10\n",
    "    #Output : False\n",
    "    \n",
    "\n",
    "a=int(input(\"enter a number\"))\n",
    "i=2\n",
    "count=0\n",
    "while i<a:\n",
    "    if a % i==0:\n",
    "        count=count+1\n",
    "    i=i+1\n",
    "        \n",
    "if count==0:\n",
    "    print(\"prime\")\n",
    "    \n",
    "else:\n",
    "    print(\"not prime\")\n",
    "\n",
    "\n",
    "    \n",
    "    \n",
    "    "
   ]
  },
  {
   "cell_type": "code",
   "execution_count": 8,
   "metadata": {},
   "outputs": [
    {
     "name": "stdout",
     "output_type": "stream",
     "text": [
      "enter a number10\n",
      "4\n"
     ]
    }
   ],
   "source": [
    "#Read the input as number N and Print the output as Prime number count between 1 to N\n",
    "#Example 1;\n",
    "   #Input : 10\n",
    "   #Output : 4 (2,3,5,7)\n",
    "\n",
    "\n",
    "N=int(input(\"enter a number\"))\n",
    "i=2\n",
    "while i<N:\n",
    "    if N%i==0:\n",
    "        count=count+1\n",
    "    i=i+1\n",
    "print(count)\n",
    "    \n",
    "    "
   ]
  },
  {
   "cell_type": "code",
   "execution_count": 14,
   "metadata": {},
   "outputs": [
    {
     "name": "stdout",
     "output_type": "stream",
     "text": [
      "enter a number1\n",
      "enter a number10\n",
      "1\n"
     ]
    }
   ],
   "source": [
    "#Read the input as two limits and Print the output as Palindrome count between the two limits\n",
    "  #Example 1;\n",
    "     #Input : 1 10\n",
    "     #Output : 1 2 3 4 5 6 7 8 9\n",
    "  #Example 2:\n",
    "     #Input : 1 100\n",
    "     #Output : 1 2 3 4 5 6 7 8 9 11 22 33 44 55 66 77 88 99\n",
    "        \n",
    "        \n",
    "a=int(input(\"enter a number\"))\n",
    "b=int(input(\"enter a number\"))\n",
    "rem=0\n",
    "while a==b:\n",
    "    "
   ]
  },
  {
   "cell_type": "code",
   "execution_count": null,
   "metadata": {},
   "outputs": [],
   "source": []
  }
 ],
 "metadata": {
  "kernelspec": {
   "display_name": "Python 3",
   "language": "python",
   "name": "python3"
  },
  "language_info": {
   "codemirror_mode": {
    "name": "ipython",
    "version": 3
   },
   "file_extension": ".py",
   "mimetype": "text/x-python",
   "name": "python",
   "nbconvert_exporter": "python",
   "pygments_lexer": "ipython3",
   "version": "3.7.3"
  }
 },
 "nbformat": 4,
 "nbformat_minor": 2
}
