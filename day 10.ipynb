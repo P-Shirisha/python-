{
 "cells": [
  {
   "cell_type": "code",
   "execution_count": 7,
   "metadata": {},
   "outputs": [
    {
     "name": "stdout",
     "output_type": "stream",
     "text": [
      "[2, 4, 6, 8]\n"
     ]
    }
   ],
   "source": [
    "# 1.Write a list comprehension checks:\n",
    "# a. Is y divisible by 2 or not?\n",
    "# b. Is y divisible by 5 or not?\n",
    "\n",
    "list1=[2,3,4,5,6,7,8,9]\n",
    "list2=[y for y in list1 if y%2==0 ]\n",
    "print(list2)\n"
   ]
  },
  {
   "cell_type": "code",
   "execution_count": 8,
   "metadata": {},
   "outputs": [
    {
     "data": {
      "text/plain": [
       "[5, 10, 35, 45]"
      ]
     },
     "execution_count": 8,
     "metadata": {},
     "output_type": "execute_result"
    }
   ],
   "source": [
    "list1=[1,5,7,10,35,46,24,45,6,8,8,44]\n",
    "list2=[y for y in list1 if y%5==0]\n",
    "list2"
   ]
  },
  {
   "cell_type": "code",
   "execution_count": 14,
   "metadata": {},
   "outputs": [
    {
     "name": "stdout",
     "output_type": "stream",
     "text": [
      "enter a string : the quick brown fox jumps over the lazy dog\n",
      "\n",
      "\n"
     ]
    },
    {
     "data": {
      "text/plain": [
       "[5, 5, 3, 5, 4, 4, 3]"
      ]
     },
     "execution_count": 14,
     "metadata": {},
     "output_type": "execute_result"
    }
   ],
   "source": [
    "# 2.Create a list of integers which specify the length of each in a certain sentence, \n",
    "# but only if the word is not the word \"the\".\n",
    "# Ex: sentence = \"the quick brown fox jumps over the lazy dog\"\n",
    "\n",
    "n=input(\"enter a string : \")\n",
    "list1=[]\n",
    "list1=n.split()\n",
    "list1\n",
    "list2=[]\n",
    "for i in list1:\n",
    "    if i=='the':\n",
    "        print(\"\")\n",
    "    else:\n",
    "        a=len(i)\n",
    "        list2.append(a)\n",
    "list2\n",
    "\n",
    "\n"
   ]
  },
  {
   "cell_type": "code",
   "execution_count": 17,
   "metadata": {},
   "outputs": [
    {
     "data": {
      "text/plain": [
       "[34.6, 44.9, 68.3, 44.6, 12.7]"
      ]
     },
     "execution_count": 17,
     "metadata": {},
     "output_type": "execute_result"
    }
   ],
   "source": [
    "#3. Create a new list called \"new list\" out of the list \"numbers\", \n",
    "#which contains only the positive numbers from the list,as integers.\n",
    "#Ex: numbers = [34.6, -203.4, 44.9, 68.3, -12.2, 44.6, 12.7]\n",
    "#newlist = [ ]\n",
    "\n",
    "newlist= [34.6, -203.4, 44.9, 68.3, -12.2, 44.6, 12.7]\n",
    "list1=[]\n",
    "for i in newlist:\n",
    "    if i>0:\n",
    "        list1.append(i)\n",
    "list1\n",
    "\n",
    "\n"
   ]
  },
  {
   "cell_type": "code",
   "execution_count": 19,
   "metadata": {},
   "outputs": [
    {
     "data": {
      "text/plain": [
       "[1, 4, 9, 16, 25, 25, 36, 49]"
      ]
     },
     "execution_count": 19,
     "metadata": {},
     "output_type": "execute_result"
    }
   ],
   "source": [
    "#4. Given a list of numbers, write a list comprehension that produces a list of the squares of each number.\n",
    "list1=[1,2,3,4,5,5,6,7]\n",
    "list2=[i*i for i in list1]\n",
    "list2\n"
   ]
  },
  {
   "cell_type": "code",
   "execution_count": 3,
   "metadata": {},
   "outputs": [
    {
     "name": "stdout",
     "output_type": "stream",
     "text": [
      "enter a string : mathematics\n"
     ]
    },
    {
     "data": {
      "text/plain": [
       "['a', 'e', 'a', 'i']"
      ]
     },
     "execution_count": 3,
     "metadata": {},
     "output_type": "execute_result"
    }
   ],
   "source": [
    "#5. Write a list comprehension that produces a list of vowels in that word.\n",
    "#Ex : vowels(“mathematics”)\n",
    "\n",
    "n=input(\"enter a string : \")\n",
    "list1=[]\n",
    "for i in n:\n",
    "    list1.append(i)\n",
    "list1\n",
    "list2=[i for i in list1 if i in (\"a,e,i,o,u\")]\n",
    "list2"
   ]
  },
  {
   "cell_type": "code",
   "execution_count": 17,
   "metadata": {},
   "outputs": [
    {
     "name": "stdout",
     "output_type": "stream",
     "text": [
      "enter a string  :Welcome to the Python world\n"
     ]
    },
    {
     "data": {
      "text/plain": [
       "(7, 2, 3, 6, 5)"
      ]
     },
     "execution_count": 17,
     "metadata": {},
     "output_type": "execute_result"
    }
   ],
   "source": [
    "#6.Print the length of each word in  the given text by applying the map function.\n",
    "# Ex : “Welcome to the Python world”\n",
    "\n",
    "def length(x):\n",
    "    for i in x:\n",
    "        a=len(x)\n",
    "    return a\n",
    "n=input(\"enter a string  :\")\n",
    "list1=[]\n",
    "list1=n.split()\n",
    "list1\n",
    "output=tuple(map(length,list1))\n",
    "output"
   ]
  },
  {
   "cell_type": "code",
   "execution_count": null,
   "metadata": {},
   "outputs": [],
   "source": [
    "#8. Print the least number from the list using reduce function\n",
    "#Ex :  [47,11,42,102,13]\n",
    "\n",
    "list1= [47,11,42,102,13]\n",
    "result=\n",
    "\n",
    "\n",
    "\n"
   ]
  },
  {
   "cell_type": "markdown",
   "metadata": {},
   "source": [
    "## filter function:\n",
    "\n"
   ]
  },
  {
   "cell_type": "code",
   "execution_count": 3,
   "metadata": {},
   "outputs": [
    {
     "data": {
      "text/plain": [
       "[3, 6, 9, 12, 15, 18, 21, 24, 27, 30, 33, 36, 39, 42, 45, 48]"
      ]
     },
     "execution_count": 3,
     "metadata": {},
     "output_type": "execute_result"
    }
   ],
   "source": [
    "#7. In a range of  1 to 50, sort out the multiple of 3 using filter fuction\n",
    "\n",
    "result=list(filter(lambda x: x%3==0 , list(range(1,51))))\n",
    "result"
   ]
  },
  {
   "cell_type": "markdown",
   "metadata": {},
   "source": [
    "## Modules:"
   ]
  },
  {
   "cell_type": "markdown",
   "metadata": {},
   "source": [
    "### math(build in function):"
   ]
  },
  {
   "cell_type": "code",
   "execution_count": 5,
   "metadata": {},
   "outputs": [
    {
     "data": {
      "text/plain": [
       "79"
      ]
     },
     "execution_count": 5,
     "metadata": {},
     "output_type": "execute_result"
    }
   ],
   "source": [
    "\n",
    "# 1. ceil: rounding off with the high\n",
    "x=78.9\n",
    "import math as m # m is a short cut to the math\n",
    "m.ceil(x)"
   ]
  },
  {
   "cell_type": "code",
   "execution_count": 6,
   "metadata": {},
   "outputs": [
    {
     "data": {
      "text/plain": [
       "120"
      ]
     },
     "execution_count": 6,
     "metadata": {},
     "output_type": "execute_result"
    }
   ],
   "source": [
    "# 2. factorial:\n",
    "import math as m\n",
    "m.factorial(5)"
   ]
  },
  {
   "cell_type": "code",
   "execution_count": 7,
   "metadata": {},
   "outputs": [
    {
     "data": {
      "text/plain": [
       "78"
      ]
     },
     "execution_count": 7,
     "metadata": {},
     "output_type": "execute_result"
    }
   ],
   "source": [
    "# 3.floor:\n",
    "import math as m\n",
    "m.floor(x)"
   ]
  },
  {
   "cell_type": "code",
   "execution_count": null,
   "metadata": {},
   "outputs": [],
   "source": [
    "# 4.gcd:\n",
    "import math as x\n",
    "m.gcd(12,3)"
   ]
  },
  {
   "cell_type": "code",
   "execution_count": 11,
   "metadata": {},
   "outputs": [
    {
     "data": {
      "text/plain": [
       "4.605170185988092"
      ]
     },
     "execution_count": 11,
     "metadata": {},
     "output_type": "execute_result"
    }
   ],
   "source": [
    "#5.log:\n",
    "import math as m\n",
    "m.log(100)"
   ]
  },
  {
   "cell_type": "code",
   "execution_count": 12,
   "metadata": {},
   "outputs": [
    {
     "data": {
      "text/plain": [
       "4.0"
      ]
     },
     "execution_count": 12,
     "metadata": {},
     "output_type": "execute_result"
    }
   ],
   "source": [
    "#6.power:\n",
    "import math as m\n",
    "m.pow(2,2)"
   ]
  },
  {
   "cell_type": "code",
   "execution_count": 13,
   "metadata": {},
   "outputs": [
    {
     "data": {
      "text/plain": [
       "1.4142135623730951"
      ]
     },
     "execution_count": 13,
     "metadata": {},
     "output_type": "execute_result"
    }
   ],
   "source": [
    "#7.squareroot:\n",
    "import math as m\n",
    "m.sqrt(2)"
   ]
  },
  {
   "cell_type": "code",
   "execution_count": 15,
   "metadata": {},
   "outputs": [
    {
     "data": {
      "text/plain": [
       "0.8414709848078965"
      ]
     },
     "execution_count": 15,
     "metadata": {},
     "output_type": "execute_result"
    }
   ],
   "source": [
    "#8.sin\n",
    "import math as m \n",
    "m.sin(1)"
   ]
  },
  {
   "cell_type": "code",
   "execution_count": 17,
   "metadata": {},
   "outputs": [
    {
     "data": {
      "text/plain": [
       "2.0"
      ]
     },
     "execution_count": 17,
     "metadata": {},
     "output_type": "execute_result"
    }
   ],
   "source": [
    "#9.remainder:\n",
    "import math as m\n",
    "m.remainder(2,4)"
   ]
  },
  {
   "cell_type": "code",
   "execution_count": 19,
   "metadata": {},
   "outputs": [
    {
     "data": {
      "text/plain": [
       "3.0"
      ]
     },
     "execution_count": 19,
     "metadata": {},
     "output_type": "execute_result"
    }
   ],
   "source": [
    "#10.log2:\n",
    "import math as m\n",
    "m.log2(8)"
   ]
  },
  {
   "cell_type": "code",
   "execution_count": null,
   "metadata": {},
   "outputs": [],
   "source": []
  }
 ],
 "metadata": {
  "kernelspec": {
   "display_name": "Python 3",
   "language": "python",
   "name": "python3"
  },
  "language_info": {
   "codemirror_mode": {
    "name": "ipython",
    "version": 3
   },
   "file_extension": ".py",
   "mimetype": "text/x-python",
   "name": "python",
   "nbconvert_exporter": "python",
   "pygments_lexer": "ipython3",
   "version": "3.7.3"
  }
 },
 "nbformat": 4,
 "nbformat_minor": 2
}
