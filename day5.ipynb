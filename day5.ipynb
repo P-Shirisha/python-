{
 "cells": [
  {
   "cell_type": "code",
   "execution_count": 25,
   "metadata": {},
   "outputs": [
    {
     "name": "stdout",
     "output_type": "stream",
     "text": [
      "enter a stringLearn Python Programming EASy\n",
      " PythonEASy   "
     ]
    },
    {
     "data": {
      "text/plain": [
       "' pythoneasy'"
      ]
     },
     "execution_count": 25,
     "metadata": {},
     "output_type": "execute_result"
    }
   ],
   "source": [
    "#Read the input as string and Output will be alternate words in lower case\n",
    "#Example #1:\n",
    "#   Input : Learn Python Programming EASy\n",
    "#   Output : python easy\n",
    "\n",
    "a=input(\"enter a string\")\n",
    "x=a.split()\n",
    "x\n",
    "y=[]\n",
    "for i in x:\n",
    "    y.append(i)\n",
    "z=\" \"\n",
    "for i in range(len(y)):\n",
    "    if(i%2)==1:\n",
    "        z=z+y[i]\n",
    "print(z,end=\"   \")\n",
    "z.lower()"
   ]
  },
  {
   "cell_type": "code",
   "execution_count": 2,
   "metadata": {},
   "outputs": [
    {
     "name": "stdout",
     "output_type": "stream",
     "text": [
      "enter a stringpython GSJBJbhb gjdbj JHSJH\n",
      "gsjbjbhb jhsjh "
     ]
    }
   ],
   "source": [
    "a=input(\"enter a string\")    # same program as above\n",
    "x=a.split()\n",
    "for i in range(1,len(x),2):\n",
    "    print(x[i].lower(),end=\" \")\n",
    "    "
   ]
  },
  {
   "cell_type": "code",
   "execution_count": 3,
   "metadata": {},
   "outputs": [
    {
     "name": "stdout",
     "output_type": "stream",
     "text": [
      "enter a stringApplc18iation89\n",
      "16\n"
     ]
    }
   ],
   "source": [
    "#Read the input as string and Print the Output as Only even digit sum\n",
    "#Example #1:\n",
    "#   Input : Applc18iation89\n",
    "#   Output : 16 (8+8)\n",
    "\n",
    "a=input(\"enter a string\")\n",
    "sum=0\n",
    "temp=0\n",
    "for i in a:\n",
    "    if ord(i)<58 and ord(i)>48:\n",
    "        #print(\"digit\",i)\n",
    "        if int(i)%2 == 0:\n",
    "            sum=sum+int(i)\n",
    "print(sum)\n"
   ]
  },
  {
   "cell_type": "code",
   "execution_count": 3,
   "metadata": {},
   "outputs": [
    {
     "name": "stdout",
     "output_type": "stream",
     "text": [
      "enter a stringPythonProgrMMINg \n",
      "pYTHONpROGRmminG"
     ]
    }
   ],
   "source": [
    "#Read the string as input and Print the output following the manner\n",
    "#Example #1:\n",
    "#   Input: PythonProgrMMINg \n",
    "#   Output: pYTHONpROGRmminG\n",
    "\n",
    "a=input(\"enter a string\")\n",
    "for i in a:\n",
    "    if  ord(i)>97 and ord(i)<122:\n",
    "        print(i.upper(),end=\"\")\n",
    "    elif ord(i)>65 and ord(i)<90:\n",
    "        print(i.lower(),end=\"\")\n"
   ]
  },
  {
   "cell_type": "code",
   "execution_count": 12,
   "metadata": {},
   "outputs": [
    {
     "name": "stdout",
     "output_type": "stream",
     "text": [
      "enter a number1 7 8 5 1 1\n",
      "[1, 7, 8, 5, 1, 1]\n"
     ]
    },
    {
     "ename": "TypeError",
     "evalue": "'NoneType' object is not subscriptable",
     "output_type": "error",
     "traceback": [
      "\u001b[1;31m---------------------------------------------------------------------------\u001b[0m",
      "\u001b[1;31mTypeError\u001b[0m                                 Traceback (most recent call last)",
      "\u001b[1;32m<ipython-input-12-b051087ec73e>\u001b[0m in \u001b[0;36m<module>\u001b[1;34m\u001b[0m\n\u001b[0;32m     14\u001b[0m \u001b[0mprint\u001b[0m\u001b[1;33m(\u001b[0m\u001b[0my\u001b[0m\u001b[1;33m)\u001b[0m\u001b[1;33m\u001b[0m\u001b[1;33m\u001b[0m\u001b[0m\n\u001b[0;32m     15\u001b[0m \u001b[0mz\u001b[0m\u001b[1;33m=\u001b[0m\u001b[0my\u001b[0m\u001b[1;33m.\u001b[0m\u001b[0msort\u001b[0m\u001b[1;33m(\u001b[0m\u001b[1;33m)\u001b[0m\u001b[1;33m\u001b[0m\u001b[1;33m\u001b[0m\u001b[0m\n\u001b[1;32m---> 16\u001b[1;33m \u001b[0mz\u001b[0m\u001b[1;33m[\u001b[0m\u001b[1;33m-\u001b[0m\u001b[1;36m1\u001b[0m\u001b[1;33m]\u001b[0m\u001b[1;33m\u001b[0m\u001b[1;33m\u001b[0m\u001b[0m\n\u001b[0m\u001b[0;32m     17\u001b[0m \u001b[1;33m\u001b[0m\u001b[0m\n",
      "\u001b[1;31mTypeError\u001b[0m: 'NoneType' object is not subscriptable"
     ]
    }
   ],
   "source": [
    "#The program must accept an integer N as the input. Need to print the largest digit from the given number.\n",
    "#Example Input/Output 1:\n",
    "#Input1:6 9 1 8\n",
    "#Output:9\n",
    "#Input2:1 7 8 5 1 1\n",
    "#Output:8\n",
    "\n",
    "a=(input(\"enter a number\"))\n",
    "x=a.split()\n",
    "x\n",
    "y=[]\n",
    "for i in x:\n",
    "    y.append(int(i))\n",
    "print(y)\n",
    "z=y.sort()\n",
    "z[-1]\n",
    "\n"
   ]
  },
  {
   "cell_type": "code",
   "execution_count": 9,
   "metadata": {},
   "outputs": [
    {
     "name": "stdout",
     "output_type": "stream",
     "text": [
      "enter a number178511\n",
      "largest number is  8\n"
     ]
    }
   ],
   "source": [
    "a=(input(\"enter a number\"))   # program of above\n",
    "print(\"largest number is \",max(a))\n"
   ]
  },
  {
   "cell_type": "code",
   "execution_count": 5,
   "metadata": {},
   "outputs": [
    {
     "name": "stdout",
     "output_type": "stream",
     "text": [
      "enter a string19872\n",
      "10\n"
     ]
    }
   ],
   "source": [
    "# The program must accept an integer N as the input. Need to print the output in the following manner.\n",
    "#Boundary Condition(s):\n",
    "#Example Input/Output 1:\n",
    "#Input1:1889\n",
    "#Output:16\n",
    "#Input2:19872\n",
    "#Output:10\n",
    "\n",
    "a=input(\"enter a string\")\n",
    "sum=0\n",
    "temp=0\n",
    "for i in a:\n",
    "    if ord(i)<58 and ord(i)>48:\n",
    "        if int(i)%2 == 0:\n",
    "            sum=sum+int(i)\n",
    "print(sum)\n",
    "\n",
    "\n"
   ]
  },
  {
   "cell_type": "code",
   "execution_count": 6,
   "metadata": {},
   "outputs": [
    {
     "ename": "SyntaxError",
     "evalue": "invalid syntax (<ipython-input-6-5c572b2e6a9e>, line 17)",
     "output_type": "error",
     "traceback": [
      "\u001b[1;36m  File \u001b[1;32m\"<ipython-input-6-5c572b2e6a9e>\"\u001b[1;36m, line \u001b[1;32m17\u001b[0m\n\u001b[1;33m    i!\u001b[0m\n\u001b[1;37m     ^\u001b[0m\n\u001b[1;31mSyntaxError\u001b[0m\u001b[1;31m:\u001b[0m invalid syntax\n"
     ]
    }
   ],
   "source": [
    "#The program must accept an integer N as the input. Need to print the output in the following manner.\n",
    "#Example Input/Output 1:\n",
    "#   Input1:145\n",
    "#   Output:yes\n",
    "#   Input2:123\n",
    "#   Output:no\n",
    "#Explanation : \n",
    "#Individual digit factorial sum is the same as the original number then need to print YES otherwise need to print NO\n",
    "#145 - 1! + 4! + 5! - 1 + 24 + 120 -- 145 -- YES\n",
    "#123 - 1! + 2! + 3! - 1 + 2 + 6 - 9 -- NO\n",
    "\n",
    "\n",
    "a=int(input(\"enter a number\"))\n",
    "sum=0\n",
    "for i in a:\n",
    "    while i>0:\n",
    "        \n",
    "    \n",
    "        \n",
    "    \n"
   ]
  },
  {
   "cell_type": "code",
   "execution_count": null,
   "metadata": {},
   "outputs": [],
   "source": []
  }
 ],
 "metadata": {
  "kernelspec": {
   "display_name": "Python 3",
   "language": "python",
   "name": "python3"
  },
  "language_info": {
   "codemirror_mode": {
    "name": "ipython",
    "version": 3
   },
   "file_extension": ".py",
   "mimetype": "text/x-python",
   "name": "python",
   "nbconvert_exporter": "python",
   "pygments_lexer": "ipython3",
   "version": "3.7.3"
  }
 },
 "nbformat": 4,
 "nbformat_minor": 2
}
